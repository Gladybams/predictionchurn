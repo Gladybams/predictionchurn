{
  "nbformat": 4,
  "nbformat_minor": 0,
  "metadata": {
    "colab": {
      "name": "PredictionChurn.ipynb",
      "provenance": [],
      "collapsed_sections": [],
      "authorship_tag": "ABX9TyOxTZt9Tn7MHQt0Uow221wv",
      "include_colab_link": true
    },
    "kernelspec": {
      "name": "python3",
      "display_name": "Python 3"
    },
    "language_info": {
      "name": "python"
    },
    "widgets": {
      "application/vnd.jupyter.widget-state+json": {
        "97c348ff9d9d4544a30eb577874af92a": {
          "model_module": "@jupyter-widgets/controls",
          "model_name": "VBoxModel",
          "state": {
            "_view_name": "VBoxView",
            "_dom_classes": [
              "widget-interact"
            ],
            "_model_name": "VBoxModel",
            "_view_module": "@jupyter-widgets/controls",
            "_model_module_version": "1.5.0",
            "_view_count": null,
            "_view_module_version": "1.5.0",
            "box_style": "",
            "layout": "IPY_MODEL_f9007561369949d49afdff0571772332",
            "_model_module": "@jupyter-widgets/controls",
            "children": [
              "IPY_MODEL_16e3826a9ad04a92860faa6f0fa6cf8d",
              "IPY_MODEL_8a6b48fb46d44599a1208507f201c509"
            ]
          }
        },
        "f9007561369949d49afdff0571772332": {
          "model_module": "@jupyter-widgets/base",
          "model_name": "LayoutModel",
          "state": {
            "_view_name": "LayoutView",
            "grid_template_rows": null,
            "right": null,
            "justify_content": null,
            "_view_module": "@jupyter-widgets/base",
            "overflow": null,
            "_model_module_version": "1.2.0",
            "_view_count": null,
            "flex_flow": null,
            "width": null,
            "min_width": null,
            "border": null,
            "align_items": null,
            "bottom": null,
            "_model_module": "@jupyter-widgets/base",
            "top": null,
            "grid_column": null,
            "overflow_y": null,
            "overflow_x": null,
            "grid_auto_flow": null,
            "grid_area": null,
            "grid_template_columns": null,
            "flex": null,
            "_model_name": "LayoutModel",
            "justify_items": null,
            "grid_row": null,
            "max_height": null,
            "align_content": null,
            "visibility": null,
            "align_self": null,
            "height": null,
            "min_height": null,
            "padding": null,
            "grid_auto_rows": null,
            "grid_gap": null,
            "max_width": null,
            "order": null,
            "_view_module_version": "1.2.0",
            "grid_template_areas": null,
            "object_position": null,
            "object_fit": null,
            "grid_auto_columns": null,
            "margin": null,
            "display": null,
            "left": null
          }
        },
        "16e3826a9ad04a92860faa6f0fa6cf8d": {
          "model_module": "@jupyter-widgets/controls",
          "model_name": "DropdownModel",
          "state": {
            "_options_labels": [
              "gender",
              "SeniorCitizen",
              "Partner",
              "Dependents",
              "PhoneService",
              "MultipleLines",
              "InternetService",
              "OnlineSecurity",
              "OnlineBackup",
              "DeviceProtection",
              "TechSupport",
              "StreamingTV",
              "StreamingMovies",
              "Contract",
              "PaperlessBilling",
              "PaymentMethod",
              "Churn"
            ],
            "_view_name": "DropdownView",
            "style": "IPY_MODEL_656d16fca3864e49855b9280e04fa72f",
            "_dom_classes": [],
            "description": "a",
            "_model_name": "DropdownModel",
            "index": 0,
            "_view_module": "@jupyter-widgets/controls",
            "_model_module_version": "1.5.0",
            "_view_count": null,
            "disabled": false,
            "_view_module_version": "1.5.0",
            "description_tooltip": null,
            "_model_module": "@jupyter-widgets/controls",
            "layout": "IPY_MODEL_69d212da2844444584b0a2effda9f592"
          }
        },
        "8a6b48fb46d44599a1208507f201c509": {
          "model_module": "@jupyter-widgets/output",
          "model_name": "OutputModel",
          "state": {
            "_view_name": "OutputView",
            "msg_id": "",
            "_dom_classes": [],
            "_model_name": "OutputModel",
            "outputs": [
              {
                "output_type": "display_data",
                "metadata": {
                  "tags": [],
                  "needs_background": "light"
                },
                "image/png": "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\n",
                "text/plain": "<Figure size 432x288 with 1 Axes>"
              }
            ],
            "_view_module": "@jupyter-widgets/output",
            "_model_module_version": "1.0.0",
            "_view_count": null,
            "_view_module_version": "1.0.0",
            "layout": "IPY_MODEL_a6c8541654734b59bd92c2fa0e319480",
            "_model_module": "@jupyter-widgets/output"
          }
        },
        "656d16fca3864e49855b9280e04fa72f": {
          "model_module": "@jupyter-widgets/controls",
          "model_name": "DescriptionStyleModel",
          "state": {
            "_view_name": "StyleView",
            "_model_name": "DescriptionStyleModel",
            "description_width": "",
            "_view_module": "@jupyter-widgets/base",
            "_model_module_version": "1.5.0",
            "_view_count": null,
            "_view_module_version": "1.2.0",
            "_model_module": "@jupyter-widgets/controls"
          }
        },
        "69d212da2844444584b0a2effda9f592": {
          "model_module": "@jupyter-widgets/base",
          "model_name": "LayoutModel",
          "state": {
            "_view_name": "LayoutView",
            "grid_template_rows": null,
            "right": null,
            "justify_content": null,
            "_view_module": "@jupyter-widgets/base",
            "overflow": null,
            "_model_module_version": "1.2.0",
            "_view_count": null,
            "flex_flow": null,
            "width": null,
            "min_width": null,
            "border": null,
            "align_items": null,
            "bottom": null,
            "_model_module": "@jupyter-widgets/base",
            "top": null,
            "grid_column": null,
            "overflow_y": null,
            "overflow_x": null,
            "grid_auto_flow": null,
            "grid_area": null,
            "grid_template_columns": null,
            "flex": null,
            "_model_name": "LayoutModel",
            "justify_items": null,
            "grid_row": null,
            "max_height": null,
            "align_content": null,
            "visibility": null,
            "align_self": null,
            "height": null,
            "min_height": null,
            "padding": null,
            "grid_auto_rows": null,
            "grid_gap": null,
            "max_width": null,
            "order": null,
            "_view_module_version": "1.2.0",
            "grid_template_areas": null,
            "object_position": null,
            "object_fit": null,
            "grid_auto_columns": null,
            "margin": null,
            "display": null,
            "left": null
          }
        },
        "a6c8541654734b59bd92c2fa0e319480": {
          "model_module": "@jupyter-widgets/base",
          "model_name": "LayoutModel",
          "state": {
            "_view_name": "LayoutView",
            "grid_template_rows": null,
            "right": null,
            "justify_content": null,
            "_view_module": "@jupyter-widgets/base",
            "overflow": null,
            "_model_module_version": "1.2.0",
            "_view_count": null,
            "flex_flow": null,
            "width": null,
            "min_width": null,
            "border": null,
            "align_items": null,
            "bottom": null,
            "_model_module": "@jupyter-widgets/base",
            "top": null,
            "grid_column": null,
            "overflow_y": null,
            "overflow_x": null,
            "grid_auto_flow": null,
            "grid_area": null,
            "grid_template_columns": null,
            "flex": null,
            "_model_name": "LayoutModel",
            "justify_items": null,
            "grid_row": null,
            "max_height": null,
            "align_content": null,
            "visibility": null,
            "align_self": null,
            "height": null,
            "min_height": null,
            "padding": null,
            "grid_auto_rows": null,
            "grid_gap": null,
            "max_width": null,
            "order": null,
            "_view_module_version": "1.2.0",
            "grid_template_areas": null,
            "object_position": null,
            "object_fit": null,
            "grid_auto_columns": null,
            "margin": null,
            "display": null,
            "left": null
          }
        },
        "6b3d531af7264c4db8f2d894389f30f6": {
          "model_module": "@jupyter-widgets/controls",
          "model_name": "VBoxModel",
          "state": {
            "_view_name": "VBoxView",
            "_dom_classes": [
              "widget-interact"
            ],
            "_model_name": "VBoxModel",
            "_view_module": "@jupyter-widgets/controls",
            "_model_module_version": "1.5.0",
            "_view_count": null,
            "_view_module_version": "1.5.0",
            "box_style": "",
            "layout": "IPY_MODEL_14a3c3d0d3324e439381ebec92391c09",
            "_model_module": "@jupyter-widgets/controls",
            "children": [
              "IPY_MODEL_0c7cbb00f75a4942a9f65534443d1158",
              "IPY_MODEL_a485810396614cc9b598dff9cb4671b3"
            ]
          }
        },
        "14a3c3d0d3324e439381ebec92391c09": {
          "model_module": "@jupyter-widgets/base",
          "model_name": "LayoutModel",
          "state": {
            "_view_name": "LayoutView",
            "grid_template_rows": null,
            "right": null,
            "justify_content": null,
            "_view_module": "@jupyter-widgets/base",
            "overflow": null,
            "_model_module_version": "1.2.0",
            "_view_count": null,
            "flex_flow": null,
            "width": null,
            "min_width": null,
            "border": null,
            "align_items": null,
            "bottom": null,
            "_model_module": "@jupyter-widgets/base",
            "top": null,
            "grid_column": null,
            "overflow_y": null,
            "overflow_x": null,
            "grid_auto_flow": null,
            "grid_area": null,
            "grid_template_columns": null,
            "flex": null,
            "_model_name": "LayoutModel",
            "justify_items": null,
            "grid_row": null,
            "max_height": null,
            "align_content": null,
            "visibility": null,
            "align_self": null,
            "height": null,
            "min_height": null,
            "padding": null,
            "grid_auto_rows": null,
            "grid_gap": null,
            "max_width": null,
            "order": null,
            "_view_module_version": "1.2.0",
            "grid_template_areas": null,
            "object_position": null,
            "object_fit": null,
            "grid_auto_columns": null,
            "margin": null,
            "display": null,
            "left": null
          }
        },
        "0c7cbb00f75a4942a9f65534443d1158": {
          "model_module": "@jupyter-widgets/controls",
          "model_name": "DropdownModel",
          "state": {
            "_options_labels": [
              "tenure",
              "MonthlyCharges",
              "TotalCharges"
            ],
            "_view_name": "DropdownView",
            "style": "IPY_MODEL_a72c8be7904446519638e9aa91c822ba",
            "_dom_classes": [],
            "description": "b",
            "_model_name": "DropdownModel",
            "index": 0,
            "_view_module": "@jupyter-widgets/controls",
            "_model_module_version": "1.5.0",
            "_view_count": null,
            "disabled": false,
            "_view_module_version": "1.5.0",
            "description_tooltip": null,
            "_model_module": "@jupyter-widgets/controls",
            "layout": "IPY_MODEL_ece1deaf951e49dc98c18ffc300a2db9"
          }
        },
        "a485810396614cc9b598dff9cb4671b3": {
          "model_module": "@jupyter-widgets/output",
          "model_name": "OutputModel",
          "state": {
            "_view_name": "OutputView",
            "msg_id": "",
            "_dom_classes": [],
            "_model_name": "OutputModel",
            "outputs": [
              {
                "output_type": "stream",
                "metadata": {
                  "tags": []
                },
                "text": "/usr/local/lib/python3.7/dist-packages/seaborn/distributions.py:2557: FutureWarning: `distplot` is a deprecated function and will be removed in a future version. Please adapt your code to use either `displot` (a figure-level function with similar flexibility) or `histplot` (an axes-level function for histograms).\n  warnings.warn(msg, FutureWarning)\n",
                "stream": "stderr"
              },
              {
                "output_type": "display_data",
                "metadata": {
                  "tags": [],
                  "needs_background": "light"
                },
                "image/png": "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\n",
                "text/plain": "<Figure size 432x288 with 1 Axes>"
              }
            ],
            "_view_module": "@jupyter-widgets/output",
            "_model_module_version": "1.0.0",
            "_view_count": null,
            "_view_module_version": "1.0.0",
            "layout": "IPY_MODEL_cf423a5f82d443bcb4e27725c12ad194",
            "_model_module": "@jupyter-widgets/output"
          }
        },
        "a72c8be7904446519638e9aa91c822ba": {
          "model_module": "@jupyter-widgets/controls",
          "model_name": "DescriptionStyleModel",
          "state": {
            "_view_name": "StyleView",
            "_model_name": "DescriptionStyleModel",
            "description_width": "",
            "_view_module": "@jupyter-widgets/base",
            "_model_module_version": "1.5.0",
            "_view_count": null,
            "_view_module_version": "1.2.0",
            "_model_module": "@jupyter-widgets/controls"
          }
        },
        "ece1deaf951e49dc98c18ffc300a2db9": {
          "model_module": "@jupyter-widgets/base",
          "model_name": "LayoutModel",
          "state": {
            "_view_name": "LayoutView",
            "grid_template_rows": null,
            "right": null,
            "justify_content": null,
            "_view_module": "@jupyter-widgets/base",
            "overflow": null,
            "_model_module_version": "1.2.0",
            "_view_count": null,
            "flex_flow": null,
            "width": null,
            "min_width": null,
            "border": null,
            "align_items": null,
            "bottom": null,
            "_model_module": "@jupyter-widgets/base",
            "top": null,
            "grid_column": null,
            "overflow_y": null,
            "overflow_x": null,
            "grid_auto_flow": null,
            "grid_area": null,
            "grid_template_columns": null,
            "flex": null,
            "_model_name": "LayoutModel",
            "justify_items": null,
            "grid_row": null,
            "max_height": null,
            "align_content": null,
            "visibility": null,
            "align_self": null,
            "height": null,
            "min_height": null,
            "padding": null,
            "grid_auto_rows": null,
            "grid_gap": null,
            "max_width": null,
            "order": null,
            "_view_module_version": "1.2.0",
            "grid_template_areas": null,
            "object_position": null,
            "object_fit": null,
            "grid_auto_columns": null,
            "margin": null,
            "display": null,
            "left": null
          }
        },
        "cf423a5f82d443bcb4e27725c12ad194": {
          "model_module": "@jupyter-widgets/base",
          "model_name": "LayoutModel",
          "state": {
            "_view_name": "LayoutView",
            "grid_template_rows": null,
            "right": null,
            "justify_content": null,
            "_view_module": "@jupyter-widgets/base",
            "overflow": null,
            "_model_module_version": "1.2.0",
            "_view_count": null,
            "flex_flow": null,
            "width": null,
            "min_width": null,
            "border": null,
            "align_items": null,
            "bottom": null,
            "_model_module": "@jupyter-widgets/base",
            "top": null,
            "grid_column": null,
            "overflow_y": null,
            "overflow_x": null,
            "grid_auto_flow": null,
            "grid_area": null,
            "grid_template_columns": null,
            "flex": null,
            "_model_name": "LayoutModel",
            "justify_items": null,
            "grid_row": null,
            "max_height": null,
            "align_content": null,
            "visibility": null,
            "align_self": null,
            "height": null,
            "min_height": null,
            "padding": null,
            "grid_auto_rows": null,
            "grid_gap": null,
            "max_width": null,
            "order": null,
            "_view_module_version": "1.2.0",
            "grid_template_areas": null,
            "object_position": null,
            "object_fit": null,
            "grid_auto_columns": null,
            "margin": null,
            "display": null,
            "left": null
          }
        },
        "aec9158847ec45fb9ad2994dd57a2dcb": {
          "model_module": "@jupyter-widgets/controls",
          "model_name": "VBoxModel",
          "state": {
            "_view_name": "VBoxView",
            "_dom_classes": [
              "widget-interact"
            ],
            "_model_name": "VBoxModel",
            "_view_module": "@jupyter-widgets/controls",
            "_model_module_version": "1.5.0",
            "_view_count": null,
            "_view_module_version": "1.5.0",
            "box_style": "",
            "layout": "IPY_MODEL_40abf61283ed43469d8298602bd5dd97",
            "_model_module": "@jupyter-widgets/controls",
            "children": [
              "IPY_MODEL_16df311b90c04e4eb9ff38a1d34b5564",
              "IPY_MODEL_b551024d67e94c308758e06ddc6f4f81"
            ]
          }
        },
        "40abf61283ed43469d8298602bd5dd97": {
          "model_module": "@jupyter-widgets/base",
          "model_name": "LayoutModel",
          "state": {
            "_view_name": "LayoutView",
            "grid_template_rows": null,
            "right": null,
            "justify_content": null,
            "_view_module": "@jupyter-widgets/base",
            "overflow": null,
            "_model_module_version": "1.2.0",
            "_view_count": null,
            "flex_flow": null,
            "width": null,
            "min_width": null,
            "border": null,
            "align_items": null,
            "bottom": null,
            "_model_module": "@jupyter-widgets/base",
            "top": null,
            "grid_column": null,
            "overflow_y": null,
            "overflow_x": null,
            "grid_auto_flow": null,
            "grid_area": null,
            "grid_template_columns": null,
            "flex": null,
            "_model_name": "LayoutModel",
            "justify_items": null,
            "grid_row": null,
            "max_height": null,
            "align_content": null,
            "visibility": null,
            "align_self": null,
            "height": null,
            "min_height": null,
            "padding": null,
            "grid_auto_rows": null,
            "grid_gap": null,
            "max_width": null,
            "order": null,
            "_view_module_version": "1.2.0",
            "grid_template_areas": null,
            "object_position": null,
            "object_fit": null,
            "grid_auto_columns": null,
            "margin": null,
            "display": null,
            "left": null
          }
        },
        "16df311b90c04e4eb9ff38a1d34b5564": {
          "model_module": "@jupyter-widgets/controls",
          "model_name": "DropdownModel",
          "state": {
            "_options_labels": [
              "tenure",
              "MonthlyCharges",
              "TotalCharges"
            ],
            "_view_name": "DropdownView",
            "style": "IPY_MODEL_3be1bae8502d410da94979e93b7b8645",
            "_dom_classes": [],
            "description": "b",
            "_model_name": "DropdownModel",
            "index": 0,
            "_view_module": "@jupyter-widgets/controls",
            "_model_module_version": "1.5.0",
            "_view_count": null,
            "disabled": false,
            "_view_module_version": "1.5.0",
            "description_tooltip": null,
            "_model_module": "@jupyter-widgets/controls",
            "layout": "IPY_MODEL_0b2488dfdff04d7290f6e15ab0f5a68f"
          }
        },
        "b551024d67e94c308758e06ddc6f4f81": {
          "model_module": "@jupyter-widgets/output",
          "model_name": "OutputModel",
          "state": {
            "_view_name": "OutputView",
            "msg_id": "",
            "_dom_classes": [],
            "_model_name": "OutputModel",
            "outputs": [
              {
                "output_type": "display_data",
                "metadata": {
                  "tags": [],
                  "needs_background": "light"
                },
                "image/png": "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\n",
                "text/plain": "<Figure size 432x288 with 1 Axes>"
              }
            ],
            "_view_module": "@jupyter-widgets/output",
            "_model_module_version": "1.0.0",
            "_view_count": null,
            "_view_module_version": "1.0.0",
            "layout": "IPY_MODEL_09b2d4eeb17f463186c3e6c1112f2767",
            "_model_module": "@jupyter-widgets/output"
          }
        },
        "3be1bae8502d410da94979e93b7b8645": {
          "model_module": "@jupyter-widgets/controls",
          "model_name": "DescriptionStyleModel",
          "state": {
            "_view_name": "StyleView",
            "_model_name": "DescriptionStyleModel",
            "description_width": "",
            "_view_module": "@jupyter-widgets/base",
            "_model_module_version": "1.5.0",
            "_view_count": null,
            "_view_module_version": "1.2.0",
            "_model_module": "@jupyter-widgets/controls"
          }
        },
        "0b2488dfdff04d7290f6e15ab0f5a68f": {
          "model_module": "@jupyter-widgets/base",
          "model_name": "LayoutModel",
          "state": {
            "_view_name": "LayoutView",
            "grid_template_rows": null,
            "right": null,
            "justify_content": null,
            "_view_module": "@jupyter-widgets/base",
            "overflow": null,
            "_model_module_version": "1.2.0",
            "_view_count": null,
            "flex_flow": null,
            "width": null,
            "min_width": null,
            "border": null,
            "align_items": null,
            "bottom": null,
            "_model_module": "@jupyter-widgets/base",
            "top": null,
            "grid_column": null,
            "overflow_y": null,
            "overflow_x": null,
            "grid_auto_flow": null,
            "grid_area": null,
            "grid_template_columns": null,
            "flex": null,
            "_model_name": "LayoutModel",
            "justify_items": null,
            "grid_row": null,
            "max_height": null,
            "align_content": null,
            "visibility": null,
            "align_self": null,
            "height": null,
            "min_height": null,
            "padding": null,
            "grid_auto_rows": null,
            "grid_gap": null,
            "max_width": null,
            "order": null,
            "_view_module_version": "1.2.0",
            "grid_template_areas": null,
            "object_position": null,
            "object_fit": null,
            "grid_auto_columns": null,
            "margin": null,
            "display": null,
            "left": null
          }
        },
        "09b2d4eeb17f463186c3e6c1112f2767": {
          "model_module": "@jupyter-widgets/base",
          "model_name": "LayoutModel",
          "state": {
            "_view_name": "LayoutView",
            "grid_template_rows": null,
            "right": null,
            "justify_content": null,
            "_view_module": "@jupyter-widgets/base",
            "overflow": null,
            "_model_module_version": "1.2.0",
            "_view_count": null,
            "flex_flow": null,
            "width": null,
            "min_width": null,
            "border": null,
            "align_items": null,
            "bottom": null,
            "_model_module": "@jupyter-widgets/base",
            "top": null,
            "grid_column": null,
            "overflow_y": null,
            "overflow_x": null,
            "grid_auto_flow": null,
            "grid_area": null,
            "grid_template_columns": null,
            "flex": null,
            "_model_name": "LayoutModel",
            "justify_items": null,
            "grid_row": null,
            "max_height": null,
            "align_content": null,
            "visibility": null,
            "align_self": null,
            "height": null,
            "min_height": null,
            "padding": null,
            "grid_auto_rows": null,
            "grid_gap": null,
            "max_width": null,
            "order": null,
            "_view_module_version": "1.2.0",
            "grid_template_areas": null,
            "object_position": null,
            "object_fit": null,
            "grid_auto_columns": null,
            "margin": null,
            "display": null,
            "left": null
          }
        }
      }
    }
  },
  "cells": [
    {
      "cell_type": "markdown",
      "metadata": {
        "id": "view-in-github",
        "colab_type": "text"
      },
      "source": [
        "<a href=\"https://colab.research.google.com/github/Gladybams/predictionchurn/blob/main/PredictionChurn.ipynb\" target=\"_parent\"><img src=\"https://colab.research.google.com/assets/colab-badge.svg\" alt=\"Open In Colab\"/></a>"
      ]
    },
    {
      "cell_type": "markdown",
      "metadata": {
        "id": "I-pO8cC3iMlL"
      },
      "source": [
        "# Prediction de churn "
      ]
    },
    {
      "cell_type": "markdown",
      "metadata": {
        "id": "GhEoBXfYiBI1"
      },
      "source": [
        "## Importation des librairies et fonctions necessaires. "
      ]
    },
    {
      "cell_type": "code",
      "metadata": {
        "id": "dTBDjbtWe-Af"
      },
      "source": [
        "import pandas as pd \n",
        "import numpy as np \n",
        "import seaborn as sns \n",
        "import matplotlib.pyplot as plt\n",
        "%matplotlib inline \n",
        "import ipywidgets as widgets\n",
        "from ipywidgets import interact, interactive, fixed, interact_manual\n",
        "from sklearn.preprocessing import MinMaxScaler\n",
        "from sklearn.model_selection import train_test_split\n",
        "from sklearn.utils import resample\n",
        "from sklearn.linear_model import LogisticRegression\n",
        "from sklearn.ensemble import RandomForestClassifier\n",
        "from sklearn.neural_network import MLPClassifier\n",
        "from sklearn.svm import SVC\n",
        "from sklearn.model_selection import GridSearchCV\n",
        "from sklearn.metrics import classification_report \n",
        "from sklearn.feature_selection import RFE"
      ],
      "execution_count": 1,
      "outputs": []
    },
    {
      "cell_type": "code",
      "metadata": {
        "colab": {
          "base_uri": "https://localhost:8080/",
          "height": 309
        },
        "id": "cjROTAnSfCye",
        "outputId": "725d79bf-11a8-44df-f400-504a7fe655a4"
      },
      "source": [
        "data = pd.read_csv(\"/content/Telco-Customer-Churn.csv\")\n",
        "data.head(5)"
      ],
      "execution_count": 2,
      "outputs": [
        {
          "output_type": "execute_result",
          "data": {
            "text/html": [
              "<div>\n",
              "<style scoped>\n",
              "    .dataframe tbody tr th:only-of-type {\n",
              "        vertical-align: middle;\n",
              "    }\n",
              "\n",
              "    .dataframe tbody tr th {\n",
              "        vertical-align: top;\n",
              "    }\n",
              "\n",
              "    .dataframe thead th {\n",
              "        text-align: right;\n",
              "    }\n",
              "</style>\n",
              "<table border=\"1\" class=\"dataframe\">\n",
              "  <thead>\n",
              "    <tr style=\"text-align: right;\">\n",
              "      <th></th>\n",
              "      <th>customerID</th>\n",
              "      <th>gender</th>\n",
              "      <th>SeniorCitizen</th>\n",
              "      <th>Partner</th>\n",
              "      <th>Dependents</th>\n",
              "      <th>tenure</th>\n",
              "      <th>PhoneService</th>\n",
              "      <th>MultipleLines</th>\n",
              "      <th>InternetService</th>\n",
              "      <th>OnlineSecurity</th>\n",
              "      <th>OnlineBackup</th>\n",
              "      <th>DeviceProtection</th>\n",
              "      <th>TechSupport</th>\n",
              "      <th>StreamingTV</th>\n",
              "      <th>StreamingMovies</th>\n",
              "      <th>Contract</th>\n",
              "      <th>PaperlessBilling</th>\n",
              "      <th>PaymentMethod</th>\n",
              "      <th>MonthlyCharges</th>\n",
              "      <th>TotalCharges</th>\n",
              "      <th>Churn</th>\n",
              "    </tr>\n",
              "  </thead>\n",
              "  <tbody>\n",
              "    <tr>\n",
              "      <th>0</th>\n",
              "      <td>7590-VHVEG</td>\n",
              "      <td>Female</td>\n",
              "      <td>0</td>\n",
              "      <td>Yes</td>\n",
              "      <td>No</td>\n",
              "      <td>1</td>\n",
              "      <td>No</td>\n",
              "      <td>No phone service</td>\n",
              "      <td>DSL</td>\n",
              "      <td>No</td>\n",
              "      <td>Yes</td>\n",
              "      <td>No</td>\n",
              "      <td>No</td>\n",
              "      <td>No</td>\n",
              "      <td>No</td>\n",
              "      <td>Month-to-month</td>\n",
              "      <td>Yes</td>\n",
              "      <td>Electronic check</td>\n",
              "      <td>29.85</td>\n",
              "      <td>29.85</td>\n",
              "      <td>No</td>\n",
              "    </tr>\n",
              "    <tr>\n",
              "      <th>1</th>\n",
              "      <td>5575-GNVDE</td>\n",
              "      <td>Male</td>\n",
              "      <td>0</td>\n",
              "      <td>No</td>\n",
              "      <td>No</td>\n",
              "      <td>34</td>\n",
              "      <td>Yes</td>\n",
              "      <td>No</td>\n",
              "      <td>DSL</td>\n",
              "      <td>Yes</td>\n",
              "      <td>No</td>\n",
              "      <td>Yes</td>\n",
              "      <td>No</td>\n",
              "      <td>No</td>\n",
              "      <td>No</td>\n",
              "      <td>One year</td>\n",
              "      <td>No</td>\n",
              "      <td>Mailed check</td>\n",
              "      <td>56.95</td>\n",
              "      <td>1889.5</td>\n",
              "      <td>No</td>\n",
              "    </tr>\n",
              "    <tr>\n",
              "      <th>2</th>\n",
              "      <td>3668-QPYBK</td>\n",
              "      <td>Male</td>\n",
              "      <td>0</td>\n",
              "      <td>No</td>\n",
              "      <td>No</td>\n",
              "      <td>2</td>\n",
              "      <td>Yes</td>\n",
              "      <td>No</td>\n",
              "      <td>DSL</td>\n",
              "      <td>Yes</td>\n",
              "      <td>Yes</td>\n",
              "      <td>No</td>\n",
              "      <td>No</td>\n",
              "      <td>No</td>\n",
              "      <td>No</td>\n",
              "      <td>Month-to-month</td>\n",
              "      <td>Yes</td>\n",
              "      <td>Mailed check</td>\n",
              "      <td>53.85</td>\n",
              "      <td>108.15</td>\n",
              "      <td>Yes</td>\n",
              "    </tr>\n",
              "    <tr>\n",
              "      <th>3</th>\n",
              "      <td>7795-CFOCW</td>\n",
              "      <td>Male</td>\n",
              "      <td>0</td>\n",
              "      <td>No</td>\n",
              "      <td>No</td>\n",
              "      <td>45</td>\n",
              "      <td>No</td>\n",
              "      <td>No phone service</td>\n",
              "      <td>DSL</td>\n",
              "      <td>Yes</td>\n",
              "      <td>No</td>\n",
              "      <td>Yes</td>\n",
              "      <td>Yes</td>\n",
              "      <td>No</td>\n",
              "      <td>No</td>\n",
              "      <td>One year</td>\n",
              "      <td>No</td>\n",
              "      <td>Bank transfer (automatic)</td>\n",
              "      <td>42.30</td>\n",
              "      <td>1840.75</td>\n",
              "      <td>No</td>\n",
              "    </tr>\n",
              "    <tr>\n",
              "      <th>4</th>\n",
              "      <td>9237-HQITU</td>\n",
              "      <td>Female</td>\n",
              "      <td>0</td>\n",
              "      <td>No</td>\n",
              "      <td>No</td>\n",
              "      <td>2</td>\n",
              "      <td>Yes</td>\n",
              "      <td>No</td>\n",
              "      <td>Fiber optic</td>\n",
              "      <td>No</td>\n",
              "      <td>No</td>\n",
              "      <td>No</td>\n",
              "      <td>No</td>\n",
              "      <td>No</td>\n",
              "      <td>No</td>\n",
              "      <td>Month-to-month</td>\n",
              "      <td>Yes</td>\n",
              "      <td>Electronic check</td>\n",
              "      <td>70.70</td>\n",
              "      <td>151.65</td>\n",
              "      <td>Yes</td>\n",
              "    </tr>\n",
              "  </tbody>\n",
              "</table>\n",
              "</div>"
            ],
            "text/plain": [
              "   customerID  gender  SeniorCitizen  ... MonthlyCharges TotalCharges  Churn\n",
              "0  7590-VHVEG  Female              0  ...          29.85        29.85     No\n",
              "1  5575-GNVDE    Male              0  ...          56.95       1889.5     No\n",
              "2  3668-QPYBK    Male              0  ...          53.85       108.15    Yes\n",
              "3  7795-CFOCW    Male              0  ...          42.30      1840.75     No\n",
              "4  9237-HQITU  Female              0  ...          70.70       151.65    Yes\n",
              "\n",
              "[5 rows x 21 columns]"
            ]
          },
          "metadata": {
            "tags": []
          },
          "execution_count": 2
        }
      ]
    },
    {
      "cell_type": "markdown",
      "metadata": {
        "id": "QvecfmLjjDIs"
      },
      "source": [
        "La variable cible est la variable \"Churn\" qui prend deux variables, donc ici nous faisons face à une classification binaire "
      ]
    },
    {
      "cell_type": "code",
      "metadata": {
        "colab": {
          "base_uri": "https://localhost:8080/"
        },
        "id": "XVI4KB8LfCtm",
        "outputId": "96109f17-2fd6-4b48-f79c-671334916115"
      },
      "source": [
        "data.info()"
      ],
      "execution_count": 3,
      "outputs": [
        {
          "output_type": "stream",
          "text": [
            "<class 'pandas.core.frame.DataFrame'>\n",
            "RangeIndex: 7043 entries, 0 to 7042\n",
            "Data columns (total 21 columns):\n",
            " #   Column            Non-Null Count  Dtype  \n",
            "---  ------            --------------  -----  \n",
            " 0   customerID        7043 non-null   object \n",
            " 1   gender            7043 non-null   object \n",
            " 2   SeniorCitizen     7043 non-null   int64  \n",
            " 3   Partner           7043 non-null   object \n",
            " 4   Dependents        7043 non-null   object \n",
            " 5   tenure            7043 non-null   int64  \n",
            " 6   PhoneService      7043 non-null   object \n",
            " 7   MultipleLines     7043 non-null   object \n",
            " 8   InternetService   7043 non-null   object \n",
            " 9   OnlineSecurity    7043 non-null   object \n",
            " 10  OnlineBackup      7043 non-null   object \n",
            " 11  DeviceProtection  7043 non-null   object \n",
            " 12  TechSupport       7043 non-null   object \n",
            " 13  StreamingTV       7043 non-null   object \n",
            " 14  StreamingMovies   7043 non-null   object \n",
            " 15  Contract          7043 non-null   object \n",
            " 16  PaperlessBilling  7043 non-null   object \n",
            " 17  PaymentMethod     7043 non-null   object \n",
            " 18  MonthlyCharges    7043 non-null   float64\n",
            " 19  TotalCharges      7043 non-null   object \n",
            " 20  Churn             7043 non-null   object \n",
            "dtypes: float64(1), int64(2), object(18)\n",
            "memory usage: 1.1+ MB\n"
          ],
          "name": "stdout"
        }
      ]
    },
    {
      "cell_type": "code",
      "metadata": {
        "colab": {
          "base_uri": "https://localhost:8080/"
        },
        "id": "QCJ3AqHPfCpt",
        "outputId": "56e11485-fbc7-4309-abb0-d506efb932bb"
      },
      "source": [
        "# Nombre de valeurs uniques par colonne \n",
        "data.nunique()"
      ],
      "execution_count": 4,
      "outputs": [
        {
          "output_type": "execute_result",
          "data": {
            "text/plain": [
              "customerID          7043\n",
              "gender                 2\n",
              "SeniorCitizen          2\n",
              "Partner                2\n",
              "Dependents             2\n",
              "tenure                73\n",
              "PhoneService           2\n",
              "MultipleLines          3\n",
              "InternetService        3\n",
              "OnlineSecurity         3\n",
              "OnlineBackup           3\n",
              "DeviceProtection       3\n",
              "TechSupport            3\n",
              "StreamingTV            3\n",
              "StreamingMovies        3\n",
              "Contract               3\n",
              "PaperlessBilling       2\n",
              "PaymentMethod          4\n",
              "MonthlyCharges      1585\n",
              "TotalCharges        6531\n",
              "Churn                  2\n",
              "dtype: int64"
            ]
          },
          "metadata": {
            "tags": []
          },
          "execution_count": 4
        }
      ]
    },
    {
      "cell_type": "markdown",
      "metadata": {
        "id": "VZFzXEOq0oV2"
      },
      "source": [
        "### Analyse des données "
      ]
    },
    {
      "cell_type": "code",
      "metadata": {
        "id": "paBj7FHDfCkP",
        "colab": {
          "base_uri": "https://localhost:8080/"
        },
        "outputId": "8963195a-8f47-4ef0-83e4-89f0a6643a45"
      },
      "source": [
        "# variables categorielles \n",
        "\n",
        "categorical_columns = data.nunique()[data.nunique() <5].keys().to_list()\n",
        "categorical_columns"
      ],
      "execution_count": 5,
      "outputs": [
        {
          "output_type": "execute_result",
          "data": {
            "text/plain": [
              "['gender',\n",
              " 'SeniorCitizen',\n",
              " 'Partner',\n",
              " 'Dependents',\n",
              " 'PhoneService',\n",
              " 'MultipleLines',\n",
              " 'InternetService',\n",
              " 'OnlineSecurity',\n",
              " 'OnlineBackup',\n",
              " 'DeviceProtection',\n",
              " 'TechSupport',\n",
              " 'StreamingTV',\n",
              " 'StreamingMovies',\n",
              " 'Contract',\n",
              " 'PaperlessBilling',\n",
              " 'PaymentMethod',\n",
              " 'Churn']"
            ]
          },
          "metadata": {
            "tags": []
          },
          "execution_count": 5
        }
      ]
    },
    {
      "cell_type": "code",
      "metadata": {
        "id": "7rvnmPfafChY"
      },
      "source": [
        "def bar_plot(a):\n",
        "  data[a].value_counts(normalize = True).plot(kind = 'bar')\n",
        "  plt.ylabel('proportion')\n",
        "  plt.title('Distribution of ' + str(a))\n",
        "  return plt.show()"
      ],
      "execution_count": 6,
      "outputs": []
    },
    {
      "cell_type": "code",
      "metadata": {
        "id": "JwcFoxAIfCdu",
        "colab": {
          "base_uri": "https://localhost:8080/",
          "height": 339,
          "referenced_widgets": [
            "97c348ff9d9d4544a30eb577874af92a",
            "f9007561369949d49afdff0571772332",
            "16e3826a9ad04a92860faa6f0fa6cf8d",
            "8a6b48fb46d44599a1208507f201c509",
            "656d16fca3864e49855b9280e04fa72f",
            "69d212da2844444584b0a2effda9f592",
            "a6c8541654734b59bd92c2fa0e319480"
          ]
        },
        "outputId": "230629eb-5160-40f4-af8c-989b73f2da9a"
      },
      "source": [
        "interact(bar_plot, a = categorical_columns);"
      ],
      "execution_count": 7,
      "outputs": [
        {
          "output_type": "display_data",
          "data": {
            "application/vnd.jupyter.widget-view+json": {
              "model_id": "97c348ff9d9d4544a30eb577874af92a",
              "version_minor": 0,
              "version_major": 2
            },
            "text/plain": [
              "interactive(children=(Dropdown(description='a', options=('gender', 'SeniorCitizen', 'Partner', 'Dependents', '…"
            ]
          },
          "metadata": {
            "tags": []
          }
        }
      ]
    },
    {
      "cell_type": "markdown",
      "metadata": {
        "id": "-LSxy_ce47gM"
      },
      "source": [
        "Grace au graphe ci dessus, nous pouvons constaster : Qu'il y a environ 30% des clients qui se sont desabonnées. Donc il y a un probleme de de déséquilibre qu'il faut resoudre pour empecher que la performance de notre modele soit impacter. La difference des données est bien repartie entre sexes, la mojorité des clients sont jeune et la proportion des clients celibataire ou en couple sont à peu près equivalents. "
      ]
    },
    {
      "cell_type": "code",
      "metadata": {
        "id": "ZVg1VZVQfCaf",
        "colab": {
          "base_uri": "https://localhost:8080/"
        },
        "outputId": "713abe48-2f8d-4411-ee95-8cecab08f3c6"
      },
      "source": [
        "#echantillonnement aléatoire de la variable 'TotalCharges\n",
        "\n",
        "data['TotalCharges'].sample(15)"
      ],
      "execution_count": 8,
      "outputs": [
        {
          "output_type": "execute_result",
          "data": {
            "text/plain": [
              "3924    4029.95\n",
              "5986      827.7\n",
              "6115     7854.9\n",
              "5450      84.65\n",
              "3388    3673.15\n",
              "3619     6129.2\n",
              "5711       1951\n",
              "4976     3708.4\n",
              "4834    1620.45\n",
              "1849      402.6\n",
              "5948     5706.2\n",
              "1889      419.7\n",
              "3188     365.55\n",
              "6626     573.75\n",
              "5228     348.15\n",
              "Name: TotalCharges, dtype: object"
            ]
          },
          "metadata": {
            "tags": []
          },
          "execution_count": 8
        }
      ]
    },
    {
      "cell_type": "code",
      "metadata": {
        "id": "kMP7hm7lfCWs"
      },
      "source": [
        "# Variables quantitatives \n",
        "\n",
        "numerical_columns = ['tenure', 'MonthlyCharges', 'TotalCharges']\n"
      ],
      "execution_count": 9,
      "outputs": []
    },
    {
      "cell_type": "code",
      "metadata": {
        "id": "jLhLENxFfCT0"
      },
      "source": [
        "def hist_plot(b):\n",
        "  sns.distplot(data[b], kde=False)\n",
        "  plt.title('Histogram of '+str(b))\n",
        "  return plt.show()"
      ],
      "execution_count": 10,
      "outputs": []
    },
    {
      "cell_type": "code",
      "metadata": {
        "id": "_HbEUsyDfCQe"
      },
      "source": [
        "data['TotalCharges'] = data['TotalCharges'].replace(' ', np.nan).astype(float)"
      ],
      "execution_count": 11,
      "outputs": []
    },
    {
      "cell_type": "code",
      "metadata": {
        "id": "amJG3R5JfCKR",
        "colab": {
          "base_uri": "https://localhost:8080/",
          "height": 378,
          "referenced_widgets": [
            "6b3d531af7264c4db8f2d894389f30f6",
            "14a3c3d0d3324e439381ebec92391c09",
            "0c7cbb00f75a4942a9f65534443d1158",
            "a485810396614cc9b598dff9cb4671b3",
            "a72c8be7904446519638e9aa91c822ba",
            "ece1deaf951e49dc98c18ffc300a2db9",
            "cf423a5f82d443bcb4e27725c12ad194"
          ]
        },
        "outputId": "ded11134-c8a3-437f-b137-dfb136aee725"
      },
      "source": [
        "interact(hist_plot, b = numerical_columns );"
      ],
      "execution_count": 12,
      "outputs": [
        {
          "output_type": "display_data",
          "data": {
            "application/vnd.jupyter.widget-view+json": {
              "model_id": "6b3d531af7264c4db8f2d894389f30f6",
              "version_minor": 0,
              "version_major": 2
            },
            "text/plain": [
              "interactive(children=(Dropdown(description='b', options=('tenure', 'MonthlyCharges', 'TotalCharges'), value='t…"
            ]
          },
          "metadata": {
            "tags": []
          }
        }
      ]
    },
    {
      "cell_type": "code",
      "metadata": {
        "id": "eZmRGFWUfCHN",
        "colab": {
          "base_uri": "https://localhost:8080/"
        },
        "outputId": "ac59bde2-ba72-4815-8f58-b2e3b05b9a3e"
      },
      "source": [
        "# Coefficient d'asymetrie de la variable 'TotalCharges' : Generalement c'est aux alentours de 0 \n",
        "\n",
        "data['TotalCharges'].skew()"
      ],
      "execution_count": 13,
      "outputs": [
        {
          "output_type": "execute_result",
          "data": {
            "text/plain": [
              "0.961642499724251"
            ]
          },
          "metadata": {
            "tags": []
          },
          "execution_count": 13
        }
      ]
    },
    {
      "cell_type": "markdown",
      "metadata": {
        "id": "0oweug9NAqgo"
      },
      "source": [
        "NB : L'exploration des données nous permet de mieux comprendre les données et nous indique quel type de traitement faire avant de passer à la création des modeles."
      ]
    },
    {
      "cell_type": "code",
      "metadata": {
        "id": "BkQ-58uKfCD0",
        "colab": {
          "base_uri": "https://localhost:8080/",
          "height": 300,
          "referenced_widgets": [
            "aec9158847ec45fb9ad2994dd57a2dcb",
            "40abf61283ed43469d8298602bd5dd97",
            "16df311b90c04e4eb9ff38a1d34b5564",
            "b551024d67e94c308758e06ddc6f4f81",
            "3be1bae8502d410da94979e93b7b8645",
            "0b2488dfdff04d7290f6e15ab0f5a68f",
            "09b2d4eeb17f463186c3e6c1112f2767"
          ]
        },
        "outputId": "a744149f-b032-47fc-9c29-afddadfe8dda"
      },
      "source": [
        "# Fonction boxplot \n",
        "\n",
        "def box_plot(b):\n",
        "  sns.boxplot(y= data[b])\n",
        "  plt.title('Boxplot of '+ str(b))\n",
        "  return plt.show()\n",
        "\n",
        "interact(box_plot, b = numerical_columns);"
      ],
      "execution_count": 14,
      "outputs": [
        {
          "output_type": "display_data",
          "data": {
            "application/vnd.jupyter.widget-view+json": {
              "model_id": "aec9158847ec45fb9ad2994dd57a2dcb",
              "version_minor": 0,
              "version_major": 2
            },
            "text/plain": [
              "interactive(children=(Dropdown(description='b', options=('tenure', 'MonthlyCharges', 'TotalCharges'), value='t…"
            ]
          },
          "metadata": {
            "tags": []
          }
        }
      ]
    },
    {
      "cell_type": "code",
      "metadata": {
        "id": "54wpnOhsfCAN",
        "colab": {
          "base_uri": "https://localhost:8080/",
          "height": 295
        },
        "outputId": "7163f8cc-a54d-47a9-c9ad-6c806e094893"
      },
      "source": [
        "# TotalCharges VS Churn \n",
        "\n",
        "sns.boxplot(x='Churn', y='TotalCharges', data=data)\n",
        "plt.xlabel('Desabonnement')\n",
        "plt.ylabel('Facture totale')\n",
        "plt.title('Montant total facturé au client')\n",
        "plt.show()"
      ],
      "execution_count": 15,
      "outputs": [
        {
          "output_type": "display_data",
          "data": {
            "image/png": "[encoded data removed]",
            "text/plain": [
              "<Figure size 432x288 with 1 Axes>"
            ]
          },
          "metadata": {
            "tags": [],
            "needs_background": "light"
          }
        }
      ]
    },
    {
      "cell_type": "code",
      "metadata": {
        "id": "ajGZiHs-7TXK",
        "colab": {
          "base_uri": "https://localhost:8080/",
          "height": 295
        },
        "outputId": "cd5f5169-e43e-4aea-9cd2-a3165083ef96"
      },
      "source": [
        "# MonthlyCharges VS Churn \n",
        "\n",
        "sns.boxplot(x='Churn', y='MonthlyCharges', data=data)\n",
        "plt.xlabel('Desabonnement')\n",
        "plt.ylabel('Facture mensuelle')\n",
        "plt.title('Montant facturé mensuellement au client')\n",
        "plt.show()"
      ],
      "execution_count": 16,
      "outputs": [
        {
          "output_type": "display_data",
          "data": {
            "image/png": "[encoded data removed]",
            "text/plain": [
              "<Figure size 432x288 with 1 Axes>"
            ]
          },
          "metadata": {
            "tags": [],
            "needs_background": "light"
          }
        }
      ]
    },
    {
      "cell_type": "markdown",
      "metadata": {
        "id": "O2lDXEVuF_jn"
      },
      "source": [
        "ici on peut dire les clients se sont desabonnées parce qu'ils sont beaucoup plus facturés. "
      ]
    },
    {
      "cell_type": "code",
      "metadata": {
        "id": "b1l2zYOK7TSa",
        "colab": {
          "base_uri": "https://localhost:8080/",
          "height": 295
        },
        "outputId": "5aa017eb-2745-4e6d-9cde-e36d6b7914ca"
      },
      "source": [
        "# tenure vs Churn \n",
        "\n",
        "sns.boxplot(x='Churn', y='tenure', data=data)\n",
        "plt.xlabel('Desabonnement')\n",
        "plt.title(\"Le nombre de mois passé par le client dans l'entreprise\")\n",
        "plt.show()"
      ],
      "execution_count": 17,
      "outputs": [
        {
          "output_type": "display_data",
          "data": {
            "image/png": "[encoded data removed]",
            "text/plain": [
              "<Figure size 432x288 with 1 Axes>"
            ]
          },
          "metadata": {
            "tags": [],
            "needs_background": "light"
          }
        }
      ]
    },
    {
      "cell_type": "code",
      "metadata": {
        "id": "oLt_T8oE7TOL",
        "colab": {
          "base_uri": "https://localhost:8080/",
          "height": 279
        },
        "outputId": "bca9cfc4-5a80-46be-efcd-2cb687b4f154"
      },
      "source": [
        "# MontehlyCharges vs Churn by SeniorCitizen\n",
        "\n",
        "sns.boxplot(x='Churn', y='MonthlyCharges', data=data, hue = 'SeniorCitizen');\n",
        "\n"
      ],
      "execution_count": 18,
      "outputs": [
        {
          "output_type": "display_data",
          "data": {
            "image/png": "[encoded data removed]",
            "text/plain": [
              "<Figure size 432x288 with 1 Axes>"
            ]
          },
          "metadata": {
            "tags": [],
            "needs_background": "light"
          }
        }
      ]
    },
    {
      "cell_type": "markdown",
      "metadata": {
        "id": "zCnqPeQtIuKs"
      },
      "source": [
        "Les personnes agées sont beaucoup plus facturés que les jeunes mais malgré reste abonnés plus longtemps "
      ]
    },
    {
      "cell_type": "code",
      "metadata": {
        "id": "Ibv3Zl-F7TJb",
        "colab": {
          "base_uri": "https://localhost:8080/",
          "height": 279
        },
        "outputId": "6cdb398c-f49d-4e70-82ad-b2dc7f02e183"
      },
      "source": [
        "# MonthlyCharges VS Churn by Dependents\n",
        "\n",
        "sns.boxplot(x='Churn', y='MonthlyCharges', data=data, hue = 'Dependents');"
      ],
      "execution_count": 19,
      "outputs": [
        {
          "output_type": "display_data",
          "data": {
            "image/png": "[encoded data removed]",
            "text/plain": [
              "<Figure size 432x288 with 1 Axes>"
            ]
          },
          "metadata": {
            "tags": [],
            "needs_background": "light"
          }
        }
      ]
    },
    {
      "cell_type": "code",
      "metadata": {
        "id": "Q40L2FMJ7TDt",
        "colab": {
          "base_uri": "https://localhost:8080/",
          "height": 297
        },
        "outputId": "53041468-561f-4c97-a1e6-ed15268748c3"
      },
      "source": [
        "# resume statistique \n",
        "\n",
        "data.describe()"
      ],
      "execution_count": 20,
      "outputs": [
        {
          "output_type": "execute_result",
          "data": {
            "text/html": [
              "<div>\n",
              "<style scoped>\n",
              "    .dataframe tbody tr th:only-of-type {\n",
              "        vertical-align: middle;\n",
              "    }\n",
              "\n",
              "    .dataframe tbody tr th {\n",
              "        vertical-align: top;\n",
              "    }\n",
              "\n",
              "    .dataframe thead th {\n",
              "        text-align: right;\n",
              "    }\n",
              "</style>\n",
              "<table border=\"1\" class=\"dataframe\">\n",
              "  <thead>\n",
              "    <tr style=\"text-align: right;\">\n",
              "      <th></th>\n",
              "      <th>SeniorCitizen</th>\n",
              "      <th>tenure</th>\n",
              "      <th>MonthlyCharges</th>\n",
              "      <th>TotalCharges</th>\n",
              "    </tr>\n",
              "  </thead>\n",
              "  <tbody>\n",
              "    <tr>\n",
              "      <th>count</th>\n",
              "      <td>7043.000000</td>\n",
              "      <td>7043.000000</td>\n",
              "      <td>7043.000000</td>\n",
              "      <td>7032.000000</td>\n",
              "    </tr>\n",
              "    <tr>\n",
              "      <th>mean</th>\n",
              "      <td>0.162147</td>\n",
              "      <td>32.371149</td>\n",
              "      <td>64.761692</td>\n",
              "      <td>2283.300441</td>\n",
              "    </tr>\n",
              "    <tr>\n",
              "      <th>std</th>\n",
              "      <td>0.368612</td>\n",
              "      <td>24.559481</td>\n",
              "      <td>30.090047</td>\n",
              "      <td>2266.771362</td>\n",
              "    </tr>\n",
              "    <tr>\n",
              "      <th>min</th>\n",
              "      <td>0.000000</td>\n",
              "      <td>0.000000</td>\n",
              "      <td>18.250000</td>\n",
              "      <td>18.800000</td>\n",
              "    </tr>\n",
              "    <tr>\n",
              "      <th>25%</th>\n",
              "      <td>0.000000</td>\n",
              "      <td>9.000000</td>\n",
              "      <td>35.500000</td>\n",
              "      <td>401.450000</td>\n",
              "    </tr>\n",
              "    <tr>\n",
              "      <th>50%</th>\n",
              "      <td>0.000000</td>\n",
              "      <td>29.000000</td>\n",
              "      <td>70.350000</td>\n",
              "      <td>1397.475000</td>\n",
              "    </tr>\n",
              "    <tr>\n",
              "      <th>75%</th>\n",
              "      <td>0.000000</td>\n",
              "      <td>55.000000</td>\n",
              "      <td>89.850000</td>\n",
              "      <td>3794.737500</td>\n",
              "    </tr>\n",
              "    <tr>\n",
              "      <th>max</th>\n",
              "      <td>1.000000</td>\n",
              "      <td>72.000000</td>\n",
              "      <td>118.750000</td>\n",
              "      <td>8684.800000</td>\n",
              "    </tr>\n",
              "  </tbody>\n",
              "</table>\n",
              "</div>"
            ],
            "text/plain": [
              "       SeniorCitizen       tenure  MonthlyCharges  TotalCharges\n",
              "count    7043.000000  7043.000000     7043.000000   7032.000000\n",
              "mean        0.162147    32.371149       64.761692   2283.300441\n",
              "std         0.368612    24.559481       30.090047   2266.771362\n",
              "min         0.000000     0.000000       18.250000     18.800000\n",
              "25%         0.000000     9.000000       35.500000    401.450000\n",
              "50%         0.000000    29.000000       70.350000   1397.475000\n",
              "75%         0.000000    55.000000       89.850000   3794.737500\n",
              "max         1.000000    72.000000      118.750000   8684.800000"
            ]
          },
          "metadata": {
            "tags": []
          },
          "execution_count": 20
        }
      ]
    },
    {
      "cell_type": "markdown",
      "metadata": {
        "id": "4_Xaeol4E7_q"
      },
      "source": [
        "## PRÉTRAITEMENT DES DONNÉES (DATA PREPROCESSING)"
      ]
    },
    {
      "cell_type": "code",
      "metadata": {
        "id": "T2feLAJ27S9f",
        "colab": {
          "base_uri": "https://localhost:8080/"
        },
        "outputId": "3efece55-278a-4bde-f0c9-722212fdeb83"
      },
      "source": [
        "# Gestion des valeurs manquantes \n",
        "\n",
        "data1 = data.copy()\n",
        "\n",
        "data1.isna().sum()"
      ],
      "execution_count": 21,
      "outputs": [
        {
          "output_type": "execute_result",
          "data": {
            "text/plain": [
              "customerID           0\n",
              "gender               0\n",
              "SeniorCitizen        0\n",
              "Partner              0\n",
              "Dependents           0\n",
              "tenure               0\n",
              "PhoneService         0\n",
              "MultipleLines        0\n",
              "InternetService      0\n",
              "OnlineSecurity       0\n",
              "OnlineBackup         0\n",
              "DeviceProtection     0\n",
              "TechSupport          0\n",
              "StreamingTV          0\n",
              "StreamingMovies      0\n",
              "Contract             0\n",
              "PaperlessBilling     0\n",
              "PaymentMethod        0\n",
              "MonthlyCharges       0\n",
              "TotalCharges        11\n",
              "Churn                0\n",
              "dtype: int64"
            ]
          },
          "metadata": {
            "tags": []
          },
          "execution_count": 21
        }
      ]
    },
    {
      "cell_type": "code",
      "metadata": {
        "id": "k8cgVBZWBpdA",
        "colab": {
          "base_uri": "https://localhost:8080/"
        },
        "outputId": "41fe4119-3256-4787-991f-d1e2ea831fcd"
      },
      "source": [
        "# Suppression des valeurs manquantes \n",
        "\n",
        "data1.dropna(inplace=True)\n",
        "\n",
        "data1.isna().sum()"
      ],
      "execution_count": 22,
      "outputs": [
        {
          "output_type": "execute_result",
          "data": {
            "text/plain": [
              "customerID          0\n",
              "gender              0\n",
              "SeniorCitizen       0\n",
              "Partner             0\n",
              "Dependents          0\n",
              "tenure              0\n",
              "PhoneService        0\n",
              "MultipleLines       0\n",
              "InternetService     0\n",
              "OnlineSecurity      0\n",
              "OnlineBackup        0\n",
              "DeviceProtection    0\n",
              "TechSupport         0\n",
              "StreamingTV         0\n",
              "StreamingMovies     0\n",
              "Contract            0\n",
              "PaperlessBilling    0\n",
              "PaymentMethod       0\n",
              "MonthlyCharges      0\n",
              "TotalCharges        0\n",
              "Churn               0\n",
              "dtype: int64"
            ]
          },
          "metadata": {
            "tags": []
          },
          "execution_count": 22
        }
      ]
    },
    {
      "cell_type": "code",
      "metadata": {
        "colab": {
          "base_uri": "https://localhost:8080/",
          "height": 309
        },
        "id": "nBbnB8uMHY76",
        "outputId": "42069d4a-aed8-49b7-ffef-0e1b3d7003cb"
      },
      "source": [
        "data1.head()"
      ],
      "execution_count": 23,
      "outputs": [
        {
          "output_type": "execute_result",
          "data": {
            "text/html": [
              "<div>\n",
              "<style scoped>\n",
              "    .dataframe tbody tr th:only-of-type {\n",
              "        vertical-align: middle;\n",
              "    }\n",
              "\n",
              "    .dataframe tbody tr th {\n",
              "        vertical-align: top;\n",
              "    }\n",
              "\n",
              "    .dataframe thead th {\n",
              "        text-align: right;\n",
              "    }\n",
              "</style>\n",
              "<table border=\"1\" class=\"dataframe\">\n",
              "  <thead>\n",
              "    <tr style=\"text-align: right;\">\n",
              "      <th></th>\n",
              "      <th>customerID</th>\n",
              "      <th>gender</th>\n",
              "      <th>SeniorCitizen</th>\n",
              "      <th>Partner</th>\n",
              "      <th>Dependents</th>\n",
              "      <th>tenure</th>\n",
              "      <th>PhoneService</th>\n",
              "      <th>MultipleLines</th>\n",
              "      <th>InternetService</th>\n",
              "      <th>OnlineSecurity</th>\n",
              "      <th>OnlineBackup</th>\n",
              "      <th>DeviceProtection</th>\n",
              "      <th>TechSupport</th>\n",
              "      <th>StreamingTV</th>\n",
              "      <th>StreamingMovies</th>\n",
              "      <th>Contract</th>\n",
              "      <th>PaperlessBilling</th>\n",
              "      <th>PaymentMethod</th>\n",
              "      <th>MonthlyCharges</th>\n",
              "      <th>TotalCharges</th>\n",
              "      <th>Churn</th>\n",
              "    </tr>\n",
              "  </thead>\n",
              "  <tbody>\n",
              "    <tr>\n",
              "      <th>0</th>\n",
              "      <td>7590-VHVEG</td>\n",
              "      <td>Female</td>\n",
              "      <td>0</td>\n",
              "      <td>Yes</td>\n",
              "      <td>No</td>\n",
              "      <td>1</td>\n",
              "      <td>No</td>\n",
              "      <td>No phone service</td>\n",
              "      <td>DSL</td>\n",
              "      <td>No</td>\n",
              "      <td>Yes</td>\n",
              "      <td>No</td>\n",
              "      <td>No</td>\n",
              "      <td>No</td>\n",
              "      <td>No</td>\n",
              "      <td>Month-to-month</td>\n",
              "      <td>Yes</td>\n",
              "      <td>Electronic check</td>\n",
              "      <td>29.85</td>\n",
              "      <td>29.85</td>\n",
              "      <td>No</td>\n",
              "    </tr>\n",
              "    <tr>\n",
              "      <th>1</th>\n",
              "      <td>5575-GNVDE</td>\n",
              "      <td>Male</td>\n",
              "      <td>0</td>\n",
              "      <td>No</td>\n",
              "      <td>No</td>\n",
              "      <td>34</td>\n",
              "      <td>Yes</td>\n",
              "      <td>No</td>\n",
              "      <td>DSL</td>\n",
              "      <td>Yes</td>\n",
              "      <td>No</td>\n",
              "      <td>Yes</td>\n",
              "      <td>No</td>\n",
              "      <td>No</td>\n",
              "      <td>No</td>\n",
              "      <td>One year</td>\n",
              "      <td>No</td>\n",
              "      <td>Mailed check</td>\n",
              "      <td>56.95</td>\n",
              "      <td>1889.50</td>\n",
              "      <td>No</td>\n",
              "    </tr>\n",
              "    <tr>\n",
              "      <th>2</th>\n",
              "      <td>3668-QPYBK</td>\n",
              "      <td>Male</td>\n",
              "      <td>0</td>\n",
              "      <td>No</td>\n",
              "      <td>No</td>\n",
              "      <td>2</td>\n",
              "      <td>Yes</td>\n",
              "      <td>No</td>\n",
              "      <td>DSL</td>\n",
              "      <td>Yes</td>\n",
              "      <td>Yes</td>\n",
              "      <td>No</td>\n",
              "      <td>No</td>\n",
              "      <td>No</td>\n",
              "      <td>No</td>\n",
              "      <td>Month-to-month</td>\n",
              "      <td>Yes</td>\n",
              "      <td>Mailed check</td>\n",
              "      <td>53.85</td>\n",
              "      <td>108.15</td>\n",
              "      <td>Yes</td>\n",
              "    </tr>\n",
              "    <tr>\n",
              "      <th>3</th>\n",
              "      <td>7795-CFOCW</td>\n",
              "      <td>Male</td>\n",
              "      <td>0</td>\n",
              "      <td>No</td>\n",
              "      <td>No</td>\n",
              "      <td>45</td>\n",
              "      <td>No</td>\n",
              "      <td>No phone service</td>\n",
              "      <td>DSL</td>\n",
              "      <td>Yes</td>\n",
              "      <td>No</td>\n",
              "      <td>Yes</td>\n",
              "      <td>Yes</td>\n",
              "      <td>No</td>\n",
              "      <td>No</td>\n",
              "      <td>One year</td>\n",
              "      <td>No</td>\n",
              "      <td>Bank transfer (automatic)</td>\n",
              "      <td>42.30</td>\n",
              "      <td>1840.75</td>\n",
              "      <td>No</td>\n",
              "    </tr>\n",
              "    <tr>\n",
              "      <th>4</th>\n",
              "      <td>9237-HQITU</td>\n",
              "      <td>Female</td>\n",
              "      <td>0</td>\n",
              "      <td>No</td>\n",
              "      <td>No</td>\n",
              "      <td>2</td>\n",
              "      <td>Yes</td>\n",
              "      <td>No</td>\n",
              "      <td>Fiber optic</td>\n",
              "      <td>No</td>\n",
              "      <td>No</td>\n",
              "      <td>No</td>\n",
              "      <td>No</td>\n",
              "      <td>No</td>\n",
              "      <td>No</td>\n",
              "      <td>Month-to-month</td>\n",
              "      <td>Yes</td>\n",
              "      <td>Electronic check</td>\n",
              "      <td>70.70</td>\n",
              "      <td>151.65</td>\n",
              "      <td>Yes</td>\n",
              "    </tr>\n",
              "  </tbody>\n",
              "</table>\n",
              "</div>"
            ],
            "text/plain": [
              "   customerID  gender  SeniorCitizen  ... MonthlyCharges TotalCharges  Churn\n",
              "0  7590-VHVEG  Female              0  ...          29.85        29.85     No\n",
              "1  5575-GNVDE    Male              0  ...          56.95      1889.50     No\n",
              "2  3668-QPYBK    Male              0  ...          53.85       108.15    Yes\n",
              "3  7795-CFOCW    Male              0  ...          42.30      1840.75     No\n",
              "4  9237-HQITU  Female              0  ...          70.70       151.65    Yes\n",
              "\n",
              "[5 rows x 21 columns]"
            ]
          },
          "metadata": {
            "tags": []
          },
          "execution_count": 23
        }
      ]
    },
    {
      "cell_type": "code",
      "metadata": {
        "id": "G4iKL5pXBpEx",
        "colab": {
          "base_uri": "https://localhost:8080/"
        },
        "outputId": "bc426f55-c8fa-4db6-8996-ba8f6c4bf4fe"
      },
      "source": [
        "# Encodage ds variables binaires \n",
        "\n",
        "data1['gender']= data1['gender'].apply(lambda row: 1 if row =='female' else 0)\n",
        "\n",
        "binary_columns = data1.drop('gender', axis=1).nunique()[data1.drop('gender', axis=1).nunique() < 3].keys().to_list()\n",
        "\n",
        "binary_columns"
      ],
      "execution_count": 24,
      "outputs": [
        {
          "output_type": "execute_result",
          "data": {
            "text/plain": [
              "['SeniorCitizen',\n",
              " 'Partner',\n",
              " 'Dependents',\n",
              " 'PhoneService',\n",
              " 'PaperlessBilling',\n",
              " 'Churn']"
            ]
          },
          "metadata": {
            "tags": []
          },
          "execution_count": 24
        }
      ]
    },
    {
      "cell_type": "code",
      "metadata": {
        "id": "C8XrGYaoIpsC"
      },
      "source": [
        "for column in binary_columns:\n",
        "  data1[column] = data1[column].apply(lambda row: 1 if row == 'Yes' else 0)"
      ],
      "execution_count": 25,
      "outputs": []
    },
    {
      "cell_type": "code",
      "metadata": {
        "id": "70PpkiJfIUQP"
      },
      "source": [
        "# Encodage des variables categorielles restantes \n",
        "\n",
        "remaining_cat_vars = data1[categorical_columns].nunique()[data1[categorical_columns].nunique() > 2].keys().to_list()\n",
        "\n",
        "remaining_cat_vars_dummies = pd.get_dummies(data=data1[remaining_cat_vars], columns=remaining_cat_vars, drop_first=True)"
      ],
      "execution_count": 26,
      "outputs": []
    },
    {
      "cell_type": "code",
      "metadata": {
        "id": "_GeTV5faKD2F"
      },
      "source": [
        "# Nouvelle dataframe \n",
        "\n",
        "data2 = pd.concat([data1['gender'], data1[binary_columns], remaining_cat_vars_dummies, data1[numerical_columns]], axis=1)"
      ],
      "execution_count": 27,
      "outputs": []
    },
    {
      "cell_type": "code",
      "metadata": {
        "id": "1z_TdlXqKDlF",
        "colab": {
          "base_uri": "https://localhost:8080/",
          "height": 258
        },
        "outputId": "08bd6a13-9904-4d16-bf52-54d477529eb2"
      },
      "source": [
        "data2.head()"
      ],
      "execution_count": 28,
      "outputs": [
        {
          "output_type": "execute_result",
          "data": {
            "text/html": [
              "<div>\n",
              "<style scoped>\n",
              "    .dataframe tbody tr th:only-of-type {\n",
              "        vertical-align: middle;\n",
              "    }\n",
              "\n",
              "    .dataframe tbody tr th {\n",
              "        vertical-align: top;\n",
              "    }\n",
              "\n",
              "    .dataframe thead th {\n",
              "        text-align: right;\n",
              "    }\n",
              "</style>\n",
              "<table border=\"1\" class=\"dataframe\">\n",
              "  <thead>\n",
              "    <tr style=\"text-align: right;\">\n",
              "      <th></th>\n",
              "      <th>gender</th>\n",
              "      <th>SeniorCitizen</th>\n",
              "      <th>Partner</th>\n",
              "      <th>Dependents</th>\n",
              "      <th>PhoneService</th>\n",
              "      <th>PaperlessBilling</th>\n",
              "      <th>Churn</th>\n",
              "      <th>MultipleLines_No phone service</th>\n",
              "      <th>MultipleLines_Yes</th>\n",
              "      <th>InternetService_Fiber optic</th>\n",
              "      <th>InternetService_No</th>\n",
              "      <th>OnlineSecurity_No internet service</th>\n",
              "      <th>OnlineSecurity_Yes</th>\n",
              "      <th>OnlineBackup_No internet service</th>\n",
              "      <th>OnlineBackup_Yes</th>\n",
              "      <th>DeviceProtection_No internet service</th>\n",
              "      <th>DeviceProtection_Yes</th>\n",
              "      <th>TechSupport_No internet service</th>\n",
              "      <th>TechSupport_Yes</th>\n",
              "      <th>StreamingTV_No internet service</th>\n",
              "      <th>StreamingTV_Yes</th>\n",
              "      <th>StreamingMovies_No internet service</th>\n",
              "      <th>StreamingMovies_Yes</th>\n",
              "      <th>Contract_One year</th>\n",
              "      <th>Contract_Two year</th>\n",
              "      <th>PaymentMethod_Credit card (automatic)</th>\n",
              "      <th>PaymentMethod_Electronic check</th>\n",
              "      <th>PaymentMethod_Mailed check</th>\n",
              "      <th>tenure</th>\n",
              "      <th>MonthlyCharges</th>\n",
              "      <th>TotalCharges</th>\n",
              "    </tr>\n",
              "  </thead>\n",
              "  <tbody>\n",
              "    <tr>\n",
              "      <th>0</th>\n",
              "      <td>0</td>\n",
              "      <td>0</td>\n",
              "      <td>1</td>\n",
              "      <td>0</td>\n",
              "      <td>0</td>\n",
              "      <td>1</td>\n",
              "      <td>0</td>\n",
              "      <td>1</td>\n",
              "      <td>0</td>\n",
              "      <td>0</td>\n",
              "      <td>0</td>\n",
              "      <td>0</td>\n",
              "      <td>0</td>\n",
              "      <td>0</td>\n",
              "      <td>1</td>\n",
              "      <td>0</td>\n",
              "      <td>0</td>\n",
              "      <td>0</td>\n",
              "      <td>0</td>\n",
              "      <td>0</td>\n",
              "      <td>0</td>\n",
              "      <td>0</td>\n",
              "      <td>0</td>\n",
              "      <td>0</td>\n",
              "      <td>0</td>\n",
              "      <td>0</td>\n",
              "      <td>1</td>\n",
              "      <td>0</td>\n",
              "      <td>1</td>\n",
              "      <td>29.85</td>\n",
              "      <td>29.85</td>\n",
              "    </tr>\n",
              "    <tr>\n",
              "      <th>1</th>\n",
              "      <td>0</td>\n",
              "      <td>0</td>\n",
              "      <td>0</td>\n",
              "      <td>0</td>\n",
              "      <td>1</td>\n",
              "      <td>0</td>\n",
              "      <td>0</td>\n",
              "      <td>0</td>\n",
              "      <td>0</td>\n",
              "      <td>0</td>\n",
              "      <td>0</td>\n",
              "      <td>0</td>\n",
              "      <td>1</td>\n",
              "      <td>0</td>\n",
              "      <td>0</td>\n",
              "      <td>0</td>\n",
              "      <td>1</td>\n",
              "      <td>0</td>\n",
              "      <td>0</td>\n",
              "      <td>0</td>\n",
              "      <td>0</td>\n",
              "      <td>0</td>\n",
              "      <td>0</td>\n",
              "      <td>1</td>\n",
              "      <td>0</td>\n",
              "      <td>0</td>\n",
              "      <td>0</td>\n",
              "      <td>1</td>\n",
              "      <td>34</td>\n",
              "      <td>56.95</td>\n",
              "      <td>1889.50</td>\n",
              "    </tr>\n",
              "    <tr>\n",
              "      <th>2</th>\n",
              "      <td>0</td>\n",
              "      <td>0</td>\n",
              "      <td>0</td>\n",
              "      <td>0</td>\n",
              "      <td>1</td>\n",
              "      <td>1</td>\n",
              "      <td>1</td>\n",
              "      <td>0</td>\n",
              "      <td>0</td>\n",
              "      <td>0</td>\n",
              "      <td>0</td>\n",
              "      <td>0</td>\n",
              "      <td>1</td>\n",
              "      <td>0</td>\n",
              "      <td>1</td>\n",
              "      <td>0</td>\n",
              "      <td>0</td>\n",
              "      <td>0</td>\n",
              "      <td>0</td>\n",
              "      <td>0</td>\n",
              "      <td>0</td>\n",
              "      <td>0</td>\n",
              "      <td>0</td>\n",
              "      <td>0</td>\n",
              "      <td>0</td>\n",
              "      <td>0</td>\n",
              "      <td>0</td>\n",
              "      <td>1</td>\n",
              "      <td>2</td>\n",
              "      <td>53.85</td>\n",
              "      <td>108.15</td>\n",
              "    </tr>\n",
              "    <tr>\n",
              "      <th>3</th>\n",
              "      <td>0</td>\n",
              "      <td>0</td>\n",
              "      <td>0</td>\n",
              "      <td>0</td>\n",
              "      <td>0</td>\n",
              "      <td>0</td>\n",
              "      <td>0</td>\n",
              "      <td>1</td>\n",
              "      <td>0</td>\n",
              "      <td>0</td>\n",
              "      <td>0</td>\n",
              "      <td>0</td>\n",
              "      <td>1</td>\n",
              "      <td>0</td>\n",
              "      <td>0</td>\n",
              "      <td>0</td>\n",
              "      <td>1</td>\n",
              "      <td>0</td>\n",
              "      <td>1</td>\n",
              "      <td>0</td>\n",
              "      <td>0</td>\n",
              "      <td>0</td>\n",
              "      <td>0</td>\n",
              "      <td>1</td>\n",
              "      <td>0</td>\n",
              "      <td>0</td>\n",
              "      <td>0</td>\n",
              "      <td>0</td>\n",
              "      <td>45</td>\n",
              "      <td>42.30</td>\n",
              "      <td>1840.75</td>\n",
              "    </tr>\n",
              "    <tr>\n",
              "      <th>4</th>\n",
              "      <td>0</td>\n",
              "      <td>0</td>\n",
              "      <td>0</td>\n",
              "      <td>0</td>\n",
              "      <td>1</td>\n",
              "      <td>1</td>\n",
              "      <td>1</td>\n",
              "      <td>0</td>\n",
              "      <td>0</td>\n",
              "      <td>1</td>\n",
              "      <td>0</td>\n",
              "      <td>0</td>\n",
              "      <td>0</td>\n",
              "      <td>0</td>\n",
              "      <td>0</td>\n",
              "      <td>0</td>\n",
              "      <td>0</td>\n",
              "      <td>0</td>\n",
              "      <td>0</td>\n",
              "      <td>0</td>\n",
              "      <td>0</td>\n",
              "      <td>0</td>\n",
              "      <td>0</td>\n",
              "      <td>0</td>\n",
              "      <td>0</td>\n",
              "      <td>0</td>\n",
              "      <td>1</td>\n",
              "      <td>0</td>\n",
              "      <td>2</td>\n",
              "      <td>70.70</td>\n",
              "      <td>151.65</td>\n",
              "    </tr>\n",
              "  </tbody>\n",
              "</table>\n",
              "</div>"
            ],
            "text/plain": [
              "   gender  SeniorCitizen  Partner  ...  tenure  MonthlyCharges  TotalCharges\n",
              "0       0              0        1  ...       1           29.85         29.85\n",
              "1       0              0        0  ...      34           56.95       1889.50\n",
              "2       0              0        0  ...       2           53.85        108.15\n",
              "3       0              0        0  ...      45           42.30       1840.75\n",
              "4       0              0        0  ...       2           70.70        151.65\n",
              "\n",
              "[5 rows x 31 columns]"
            ]
          },
          "metadata": {
            "tags": []
          },
          "execution_count": 28
        }
      ]
    },
    {
      "cell_type": "code",
      "metadata": {
        "colab": {
          "base_uri": "https://localhost:8080/",
          "height": 369
        },
        "id": "DDxY13tHE7Y9",
        "outputId": "4fb94e64-fdda-48e6-82fa-e2659fb4b8d7"
      },
      "source": [
        "# Transformation de la variable 'TotalCharges'\n",
        "\n",
        "data2['TotalCharges'] = np.sqrt(data['TotalCharges'])\n",
        "\n",
        "# Histogramme de la variable transormé\n",
        "\n",
        "sns.displot(data2['TotalCharges'], kde=False);\n"
      ],
      "execution_count": 29,
      "outputs": [
        {
          "output_type": "display_data",
          "data": {
            "image/png": "[encoded data removed]",
            "text/plain": [
              "<Figure size 360x360 with 1 Axes>"
            ]
          },
          "metadata": {
            "tags": [],
            "needs_background": "light"
          }
        }
      ]
    },
    {
      "cell_type": "code",
      "metadata": {
        "colab": {
          "base_uri": "https://localhost:8080/"
        },
        "id": "MuJn1RZkE7Ud",
        "outputId": "eeaf2316-c87e-46bc-c2da-97fc0219bb41"
      },
      "source": [
        "# Coefficient d'asymetrie \n",
        "data2['TotalCharges'].skew()"
      ],
      "execution_count": 30,
      "outputs": [
        {
          "output_type": "execute_result",
          "data": {
            "text/plain": [
              "0.3089261418986736"
            ]
          },
          "metadata": {
            "tags": []
          },
          "execution_count": 30
        }
      ]
    },
    {
      "cell_type": "markdown",
      "metadata": {
        "id": "gPRM9zsfyRHz"
      },
      "source": [
        "Nous allons diviser nos données en 3 parties : entrainement, validation et test. Les données de validations servent à selectionner le meilleur modele "
      ]
    },
    {
      "cell_type": "code",
      "metadata": {
        "id": "DDcA28SbE7L1"
      },
      "source": [
        "# Données d'entrainement (60%), validation (20%), test (20%). Stratify : pour s'assurer qu'on a la meme proportion dans dotre varibale cible \n",
        "\n",
        "X = data2.drop('Churn', axis =1)\n",
        "\n",
        "y = data2['Churn']\n",
        "\n",
        "seed = 1111\n",
        "\n",
        "X_train, X_test, y_train, y_test = train_test_split(X, y, test_size = 0.4, random_state = seed, stratify = y)\n",
        "\n",
        "X_val, X_test, y_val, y_test = train_test_split(X_test, y_test, test_size = 0.5, random_state = seed, stratify = y_test)"
      ],
      "execution_count": 31,
      "outputs": []
    },
    {
      "cell_type": "code",
      "metadata": {
        "colab": {
          "base_uri": "https://localhost:8080/"
        },
        "id": "R32ccjtGE622",
        "outputId": "b5e04476-292c-47f2-9f35-59fa4c5f1792"
      },
      "source": [
        "# Frequence des classes dans y \n",
        "\n",
        "pd.DataFrame(y).value_counts(normalize = True)"
      ],
      "execution_count": 32,
      "outputs": [
        {
          "output_type": "execute_result",
          "data": {
            "text/plain": [
              "Churn\n",
              "0        0.734215\n",
              "1        0.265785\n",
              "dtype: float64"
            ]
          },
          "metadata": {
            "tags": []
          },
          "execution_count": 32
        }
      ]
    },
    {
      "cell_type": "code",
      "metadata": {
        "colab": {
          "base_uri": "https://localhost:8080/"
        },
        "id": "Au8-Q1qTwPPT",
        "outputId": "798351c8-8e35-467e-bf23-6b0d905f91f5"
      },
      "source": [
        "# Frequence des classes dans y_train \n",
        "\n",
        "pd.DataFrame(y_train).value_counts(normalize = True)"
      ],
      "execution_count": 33,
      "outputs": [
        {
          "output_type": "execute_result",
          "data": {
            "text/plain": [
              "Churn\n",
              "0        0.734297\n",
              "1        0.265703\n",
              "dtype: float64"
            ]
          },
          "metadata": {
            "tags": []
          },
          "execution_count": 33
        }
      ]
    },
    {
      "cell_type": "code",
      "metadata": {
        "colab": {
          "base_uri": "https://localhost:8080/"
        },
        "id": "Ltd__OKnwPDz",
        "outputId": "1dc89c7f-d8c3-4b81-e66d-64e0fceb543c"
      },
      "source": [
        "# Frequence des classes dans y_val\n",
        "\n",
        "pd.DataFrame(y_val).value_counts(normalize = True)"
      ],
      "execution_count": 34,
      "outputs": [
        {
          "output_type": "execute_result",
          "data": {
            "text/plain": [
              "Churn\n",
              "0        0.733997\n",
              "1        0.266003\n",
              "dtype: float64"
            ]
          },
          "metadata": {
            "tags": []
          },
          "execution_count": 34
        }
      ]
    },
    {
      "cell_type": "code",
      "metadata": {
        "colab": {
          "base_uri": "https://localhost:8080/"
        },
        "id": "5zMxHcCL0ZHq",
        "outputId": "27fedaa4-34cc-43dc-88a1-93e67d9eec16"
      },
      "source": [
        "# Frequence des classes dans y_test\n",
        "\n",
        "pd.DataFrame(y_test).value_counts(normalize = True)"
      ],
      "execution_count": 35,
      "outputs": [
        {
          "output_type": "execute_result",
          "data": {
            "text/plain": [
              "Churn\n",
              "0        0.734186\n",
              "1        0.265814\n",
              "dtype: float64"
            ]
          },
          "metadata": {
            "tags": []
          },
          "execution_count": 35
        }
      ]
    },
    {
      "cell_type": "code",
      "metadata": {
        "colab": {
          "base_uri": "https://localhost:8080/",
          "height": 575
        },
        "id": "Ax_BklUC0ZEn",
        "outputId": "9d5ce474-727a-4731-c501-5746262afa5b"
      },
      "source": [
        "# Resolution du probleme de desequilibre des classes \n",
        "\n",
        "X2 = X_train \n",
        "\n",
        "X2['Churn'] = y_train.values\n",
        "\n",
        "minority = X2[X2.Churn ==1]\n",
        "\n",
        "majority = X2[X2.Churn ==0]\n",
        "\n",
        "minority_upsampled = resample(minority, replace = True, n_samples = len(majority), random_state=seed)\n",
        "\n",
        "upsampled = pd.concat([majority, minority_upsampled])\n",
        "\n",
        "upsampled"
      ],
      "execution_count": 36,
      "outputs": [
        {
          "output_type": "stream",
          "text": [
            "/usr/local/lib/python3.7/dist-packages/ipykernel_launcher.py:5: SettingWithCopyWarning: \n",
            "A value is trying to be set on a copy of a slice from a DataFrame.\n",
            "Try using .loc[row_indexer,col_indexer] = value instead\n",
            "\n",
            "See the caveats in the documentation: https://pandas.pydata.org/pandas-docs/stable/user_guide/indexing.html#returning-a-view-versus-a-copy\n",
            "  \"\"\"\n"
          ],
          "name": "stderr"
        },
        {
          "output_type": "execute_result",
          "data": {
            "text/html": [
              "<div>\n",
              "<style scoped>\n",
              "    .dataframe tbody tr th:only-of-type {\n",
              "        vertical-align: middle;\n",
              "    }\n",
              "\n",
              "    .dataframe tbody tr th {\n",
              "        vertical-align: top;\n",
              "    }\n",
              "\n",
              "    .dataframe thead th {\n",
              "        text-align: right;\n",
              "    }\n",
              "</style>\n",
              "<table border=\"1\" class=\"dataframe\">\n",
              "  <thead>\n",
              "    <tr style=\"text-align: right;\">\n",
              "      <th></th>\n",
              "      <th>gender</th>\n",
              "      <th>SeniorCitizen</th>\n",
              "      <th>Partner</th>\n",
              "      <th>Dependents</th>\n",
              "      <th>PhoneService</th>\n",
              "      <th>PaperlessBilling</th>\n",
              "      <th>MultipleLines_No phone service</th>\n",
              "      <th>MultipleLines_Yes</th>\n",
              "      <th>InternetService_Fiber optic</th>\n",
              "      <th>InternetService_No</th>\n",
              "      <th>OnlineSecurity_No internet service</th>\n",
              "      <th>OnlineSecurity_Yes</th>\n",
              "      <th>OnlineBackup_No internet service</th>\n",
              "      <th>OnlineBackup_Yes</th>\n",
              "      <th>DeviceProtection_No internet service</th>\n",
              "      <th>DeviceProtection_Yes</th>\n",
              "      <th>TechSupport_No internet service</th>\n",
              "      <th>TechSupport_Yes</th>\n",
              "      <th>StreamingTV_No internet service</th>\n",
              "      <th>StreamingTV_Yes</th>\n",
              "      <th>StreamingMovies_No internet service</th>\n",
              "      <th>StreamingMovies_Yes</th>\n",
              "      <th>Contract_One year</th>\n",
              "      <th>Contract_Two year</th>\n",
              "      <th>PaymentMethod_Credit card (automatic)</th>\n",
              "      <th>PaymentMethod_Electronic check</th>\n",
              "      <th>PaymentMethod_Mailed check</th>\n",
              "      <th>tenure</th>\n",
              "      <th>MonthlyCharges</th>\n",
              "      <th>TotalCharges</th>\n",
              "      <th>Churn</th>\n",
              "    </tr>\n",
              "  </thead>\n",
              "  <tbody>\n",
              "    <tr>\n",
              "      <th>6406</th>\n",
              "      <td>0</td>\n",
              "      <td>0</td>\n",
              "      <td>0</td>\n",
              "      <td>0</td>\n",
              "      <td>0</td>\n",
              "      <td>1</td>\n",
              "      <td>1</td>\n",
              "      <td>0</td>\n",
              "      <td>0</td>\n",
              "      <td>0</td>\n",
              "      <td>0</td>\n",
              "      <td>0</td>\n",
              "      <td>0</td>\n",
              "      <td>0</td>\n",
              "      <td>0</td>\n",
              "      <td>1</td>\n",
              "      <td>0</td>\n",
              "      <td>0</td>\n",
              "      <td>0</td>\n",
              "      <td>1</td>\n",
              "      <td>0</td>\n",
              "      <td>1</td>\n",
              "      <td>0</td>\n",
              "      <td>0</td>\n",
              "      <td>1</td>\n",
              "      <td>0</td>\n",
              "      <td>0</td>\n",
              "      <td>39</td>\n",
              "      <td>50.65</td>\n",
              "      <td>43.650888</td>\n",
              "      <td>0</td>\n",
              "    </tr>\n",
              "    <tr>\n",
              "      <th>6124</th>\n",
              "      <td>0</td>\n",
              "      <td>0</td>\n",
              "      <td>1</td>\n",
              "      <td>1</td>\n",
              "      <td>1</td>\n",
              "      <td>1</td>\n",
              "      <td>0</td>\n",
              "      <td>0</td>\n",
              "      <td>0</td>\n",
              "      <td>0</td>\n",
              "      <td>0</td>\n",
              "      <td>1</td>\n",
              "      <td>0</td>\n",
              "      <td>0</td>\n",
              "      <td>0</td>\n",
              "      <td>1</td>\n",
              "      <td>0</td>\n",
              "      <td>1</td>\n",
              "      <td>0</td>\n",
              "      <td>0</td>\n",
              "      <td>0</td>\n",
              "      <td>0</td>\n",
              "      <td>1</td>\n",
              "      <td>0</td>\n",
              "      <td>0</td>\n",
              "      <td>0</td>\n",
              "      <td>1</td>\n",
              "      <td>57</td>\n",
              "      <td>59.30</td>\n",
              "      <td>57.221936</td>\n",
              "      <td>0</td>\n",
              "    </tr>\n",
              "    <tr>\n",
              "      <th>4051</th>\n",
              "      <td>0</td>\n",
              "      <td>0</td>\n",
              "      <td>1</td>\n",
              "      <td>0</td>\n",
              "      <td>1</td>\n",
              "      <td>1</td>\n",
              "      <td>0</td>\n",
              "      <td>1</td>\n",
              "      <td>1</td>\n",
              "      <td>0</td>\n",
              "      <td>0</td>\n",
              "      <td>0</td>\n",
              "      <td>0</td>\n",
              "      <td>1</td>\n",
              "      <td>0</td>\n",
              "      <td>0</td>\n",
              "      <td>0</td>\n",
              "      <td>0</td>\n",
              "      <td>0</td>\n",
              "      <td>1</td>\n",
              "      <td>0</td>\n",
              "      <td>1</td>\n",
              "      <td>0</td>\n",
              "      <td>1</td>\n",
              "      <td>1</td>\n",
              "      <td>0</td>\n",
              "      <td>0</td>\n",
              "      <td>72</td>\n",
              "      <td>97.70</td>\n",
              "      <td>82.883653</td>\n",
              "      <td>0</td>\n",
              "    </tr>\n",
              "    <tr>\n",
              "      <th>3839</th>\n",
              "      <td>0</td>\n",
              "      <td>0</td>\n",
              "      <td>1</td>\n",
              "      <td>1</td>\n",
              "      <td>1</td>\n",
              "      <td>0</td>\n",
              "      <td>0</td>\n",
              "      <td>0</td>\n",
              "      <td>0</td>\n",
              "      <td>1</td>\n",
              "      <td>1</td>\n",
              "      <td>0</td>\n",
              "      <td>1</td>\n",
              "      <td>0</td>\n",
              "      <td>1</td>\n",
              "      <td>0</td>\n",
              "      <td>1</td>\n",
              "      <td>0</td>\n",
              "      <td>1</td>\n",
              "      <td>0</td>\n",
              "      <td>1</td>\n",
              "      <td>0</td>\n",
              "      <td>0</td>\n",
              "      <td>0</td>\n",
              "      <td>0</td>\n",
              "      <td>0</td>\n",
              "      <td>1</td>\n",
              "      <td>15</td>\n",
              "      <td>20.05</td>\n",
              "      <td>16.861198</td>\n",
              "      <td>0</td>\n",
              "    </tr>\n",
              "    <tr>\n",
              "      <th>2523</th>\n",
              "      <td>0</td>\n",
              "      <td>0</td>\n",
              "      <td>1</td>\n",
              "      <td>1</td>\n",
              "      <td>1</td>\n",
              "      <td>0</td>\n",
              "      <td>0</td>\n",
              "      <td>0</td>\n",
              "      <td>0</td>\n",
              "      <td>1</td>\n",
              "      <td>1</td>\n",
              "      <td>0</td>\n",
              "      <td>1</td>\n",
              "      <td>0</td>\n",
              "      <td>1</td>\n",
              "      <td>0</td>\n",
              "      <td>1</td>\n",
              "      <td>0</td>\n",
              "      <td>1</td>\n",
              "      <td>0</td>\n",
              "      <td>1</td>\n",
              "      <td>0</td>\n",
              "      <td>0</td>\n",
              "      <td>1</td>\n",
              "      <td>1</td>\n",
              "      <td>0</td>\n",
              "      <td>0</td>\n",
              "      <td>47</td>\n",
              "      <td>20.25</td>\n",
              "      <td>29.553342</td>\n",
              "      <td>0</td>\n",
              "    </tr>\n",
              "    <tr>\n",
              "      <th>...</th>\n",
              "      <td>...</td>\n",
              "      <td>...</td>\n",
              "      <td>...</td>\n",
              "      <td>...</td>\n",
              "      <td>...</td>\n",
              "      <td>...</td>\n",
              "      <td>...</td>\n",
              "      <td>...</td>\n",
              "      <td>...</td>\n",
              "      <td>...</td>\n",
              "      <td>...</td>\n",
              "      <td>...</td>\n",
              "      <td>...</td>\n",
              "      <td>...</td>\n",
              "      <td>...</td>\n",
              "      <td>...</td>\n",
              "      <td>...</td>\n",
              "      <td>...</td>\n",
              "      <td>...</td>\n",
              "      <td>...</td>\n",
              "      <td>...</td>\n",
              "      <td>...</td>\n",
              "      <td>...</td>\n",
              "      <td>...</td>\n",
              "      <td>...</td>\n",
              "      <td>...</td>\n",
              "      <td>...</td>\n",
              "      <td>...</td>\n",
              "      <td>...</td>\n",
              "      <td>...</td>\n",
              "      <td>...</td>\n",
              "    </tr>\n",
              "    <tr>\n",
              "      <th>5872</th>\n",
              "      <td>0</td>\n",
              "      <td>0</td>\n",
              "      <td>0</td>\n",
              "      <td>1</td>\n",
              "      <td>1</td>\n",
              "      <td>1</td>\n",
              "      <td>0</td>\n",
              "      <td>0</td>\n",
              "      <td>1</td>\n",
              "      <td>0</td>\n",
              "      <td>0</td>\n",
              "      <td>0</td>\n",
              "      <td>0</td>\n",
              "      <td>0</td>\n",
              "      <td>0</td>\n",
              "      <td>0</td>\n",
              "      <td>0</td>\n",
              "      <td>0</td>\n",
              "      <td>0</td>\n",
              "      <td>0</td>\n",
              "      <td>0</td>\n",
              "      <td>0</td>\n",
              "      <td>0</td>\n",
              "      <td>0</td>\n",
              "      <td>0</td>\n",
              "      <td>1</td>\n",
              "      <td>0</td>\n",
              "      <td>1</td>\n",
              "      <td>69.65</td>\n",
              "      <td>8.345658</td>\n",
              "      <td>1</td>\n",
              "    </tr>\n",
              "    <tr>\n",
              "      <th>6040</th>\n",
              "      <td>0</td>\n",
              "      <td>0</td>\n",
              "      <td>0</td>\n",
              "      <td>0</td>\n",
              "      <td>1</td>\n",
              "      <td>0</td>\n",
              "      <td>0</td>\n",
              "      <td>0</td>\n",
              "      <td>1</td>\n",
              "      <td>0</td>\n",
              "      <td>0</td>\n",
              "      <td>0</td>\n",
              "      <td>0</td>\n",
              "      <td>0</td>\n",
              "      <td>0</td>\n",
              "      <td>0</td>\n",
              "      <td>0</td>\n",
              "      <td>0</td>\n",
              "      <td>0</td>\n",
              "      <td>0</td>\n",
              "      <td>0</td>\n",
              "      <td>0</td>\n",
              "      <td>0</td>\n",
              "      <td>0</td>\n",
              "      <td>0</td>\n",
              "      <td>0</td>\n",
              "      <td>1</td>\n",
              "      <td>1</td>\n",
              "      <td>70.75</td>\n",
              "      <td>8.411302</td>\n",
              "      <td>1</td>\n",
              "    </tr>\n",
              "    <tr>\n",
              "      <th>4212</th>\n",
              "      <td>0</td>\n",
              "      <td>0</td>\n",
              "      <td>0</td>\n",
              "      <td>0</td>\n",
              "      <td>1</td>\n",
              "      <td>0</td>\n",
              "      <td>0</td>\n",
              "      <td>0</td>\n",
              "      <td>1</td>\n",
              "      <td>0</td>\n",
              "      <td>0</td>\n",
              "      <td>0</td>\n",
              "      <td>0</td>\n",
              "      <td>0</td>\n",
              "      <td>0</td>\n",
              "      <td>0</td>\n",
              "      <td>0</td>\n",
              "      <td>0</td>\n",
              "      <td>0</td>\n",
              "      <td>1</td>\n",
              "      <td>0</td>\n",
              "      <td>1</td>\n",
              "      <td>0</td>\n",
              "      <td>0</td>\n",
              "      <td>0</td>\n",
              "      <td>1</td>\n",
              "      <td>0</td>\n",
              "      <td>1</td>\n",
              "      <td>90.60</td>\n",
              "      <td>9.518403</td>\n",
              "      <td>1</td>\n",
              "    </tr>\n",
              "    <tr>\n",
              "      <th>508</th>\n",
              "      <td>0</td>\n",
              "      <td>0</td>\n",
              "      <td>1</td>\n",
              "      <td>1</td>\n",
              "      <td>1</td>\n",
              "      <td>1</td>\n",
              "      <td>0</td>\n",
              "      <td>1</td>\n",
              "      <td>1</td>\n",
              "      <td>0</td>\n",
              "      <td>0</td>\n",
              "      <td>0</td>\n",
              "      <td>0</td>\n",
              "      <td>0</td>\n",
              "      <td>0</td>\n",
              "      <td>0</td>\n",
              "      <td>0</td>\n",
              "      <td>1</td>\n",
              "      <td>0</td>\n",
              "      <td>0</td>\n",
              "      <td>0</td>\n",
              "      <td>0</td>\n",
              "      <td>0</td>\n",
              "      <td>0</td>\n",
              "      <td>0</td>\n",
              "      <td>1</td>\n",
              "      <td>0</td>\n",
              "      <td>6</td>\n",
              "      <td>80.50</td>\n",
              "      <td>22.424317</td>\n",
              "      <td>1</td>\n",
              "    </tr>\n",
              "    <tr>\n",
              "      <th>1056</th>\n",
              "      <td>0</td>\n",
              "      <td>0</td>\n",
              "      <td>0</td>\n",
              "      <td>0</td>\n",
              "      <td>1</td>\n",
              "      <td>1</td>\n",
              "      <td>0</td>\n",
              "      <td>0</td>\n",
              "      <td>1</td>\n",
              "      <td>0</td>\n",
              "      <td>0</td>\n",
              "      <td>0</td>\n",
              "      <td>0</td>\n",
              "      <td>0</td>\n",
              "      <td>0</td>\n",
              "      <td>0</td>\n",
              "      <td>0</td>\n",
              "      <td>0</td>\n",
              "      <td>0</td>\n",
              "      <td>0</td>\n",
              "      <td>0</td>\n",
              "      <td>1</td>\n",
              "      <td>0</td>\n",
              "      <td>0</td>\n",
              "      <td>0</td>\n",
              "      <td>1</td>\n",
              "      <td>0</td>\n",
              "      <td>5</td>\n",
              "      <td>80.00</td>\n",
              "      <td>20.310096</td>\n",
              "      <td>1</td>\n",
              "    </tr>\n",
              "  </tbody>\n",
              "</table>\n",
              "<p>6196 rows × 31 columns</p>\n",
              "</div>"
            ],
            "text/plain": [
              "      gender  SeniorCitizen  Partner  ...  MonthlyCharges  TotalCharges  Churn\n",
              "6406       0              0        0  ...           50.65     43.650888      0\n",
              "6124       0              0        1  ...           59.30     57.221936      0\n",
              "4051       0              0        1  ...           97.70     82.883653      0\n",
              "3839       0              0        1  ...           20.05     16.861198      0\n",
              "2523       0              0        1  ...           20.25     29.553342      0\n",
              "...      ...            ...      ...  ...             ...           ...    ...\n",
              "5872       0              0        0  ...           69.65      8.345658      1\n",
              "6040       0              0        0  ...           70.75      8.411302      1\n",
              "4212       0              0        0  ...           90.60      9.518403      1\n",
              "508        0              0        1  ...           80.50     22.424317      1\n",
              "1056       0              0        0  ...           80.00     20.310096      1\n",
              "\n",
              "[6196 rows x 31 columns]"
            ]
          },
          "metadata": {
            "tags": []
          },
          "execution_count": 36
        }
      ]
    },
    {
      "cell_type": "code",
      "metadata": {
        "colab": {
          "base_uri": "https://localhost:8080/"
        },
        "id": "rsF5vzzw0ZB8",
        "outputId": "7025a8fc-3b59-41aa-cd10-2f0b46c24294"
      },
      "source": [
        "upsampled['Churn'].value_counts(normalize = True)"
      ],
      "execution_count": 37,
      "outputs": [
        {
          "output_type": "execute_result",
          "data": {
            "text/plain": [
              "1    0.5\n",
              "0    0.5\n",
              "Name: Churn, dtype: float64"
            ]
          },
          "metadata": {
            "tags": []
          },
          "execution_count": 37
        }
      ]
    },
    {
      "cell_type": "code",
      "metadata": {
        "id": "0Rs6o6cy0Y-A"
      },
      "source": [
        "X_train_up = upsampled.drop('Churn', axis =1)\n",
        "\n",
        "y_train_up = upsampled['Churn']"
      ],
      "execution_count": 38,
      "outputs": []
    },
    {
      "cell_type": "code",
      "metadata": {
        "id": "IEu9g1TA0Y6m"
      },
      "source": [
        "# Autres methodes "
      ],
      "execution_count": 39,
      "outputs": []
    },
    {
      "cell_type": "code",
      "metadata": {
        "colab": {
          "base_uri": "https://localhost:8080/",
          "height": 473
        },
        "id": "qKT0vFOk1RAs",
        "outputId": "2d88cb97-b75d-4621-cabb-d93b67f53e84"
      },
      "source": [
        "majortiy_downsampled = resample(majority, replace=False, n_samples = len(minority), random_state=seed)\n",
        "\n",
        "downsampled = pd.concat([minority, majortiy_downsampled])\n",
        "\n",
        "downsampled"
      ],
      "execution_count": 40,
      "outputs": [
        {
          "output_type": "execute_result",
          "data": {
            "text/html": [
              "<div>\n",
              "<style scoped>\n",
              "    .dataframe tbody tr th:only-of-type {\n",
              "        vertical-align: middle;\n",
              "    }\n",
              "\n",
              "    .dataframe tbody tr th {\n",
              "        vertical-align: top;\n",
              "    }\n",
              "\n",
              "    .dataframe thead th {\n",
              "        text-align: right;\n",
              "    }\n",
              "</style>\n",
              "<table border=\"1\" class=\"dataframe\">\n",
              "  <thead>\n",
              "    <tr style=\"text-align: right;\">\n",
              "      <th></th>\n",
              "      <th>gender</th>\n",
              "      <th>SeniorCitizen</th>\n",
              "      <th>Partner</th>\n",
              "      <th>Dependents</th>\n",
              "      <th>PhoneService</th>\n",
              "      <th>PaperlessBilling</th>\n",
              "      <th>MultipleLines_No phone service</th>\n",
              "      <th>MultipleLines_Yes</th>\n",
              "      <th>InternetService_Fiber optic</th>\n",
              "      <th>InternetService_No</th>\n",
              "      <th>OnlineSecurity_No internet service</th>\n",
              "      <th>OnlineSecurity_Yes</th>\n",
              "      <th>OnlineBackup_No internet service</th>\n",
              "      <th>OnlineBackup_Yes</th>\n",
              "      <th>DeviceProtection_No internet service</th>\n",
              "      <th>DeviceProtection_Yes</th>\n",
              "      <th>TechSupport_No internet service</th>\n",
              "      <th>TechSupport_Yes</th>\n",
              "      <th>StreamingTV_No internet service</th>\n",
              "      <th>StreamingTV_Yes</th>\n",
              "      <th>StreamingMovies_No internet service</th>\n",
              "      <th>StreamingMovies_Yes</th>\n",
              "      <th>Contract_One year</th>\n",
              "      <th>Contract_Two year</th>\n",
              "      <th>PaymentMethod_Credit card (automatic)</th>\n",
              "      <th>PaymentMethod_Electronic check</th>\n",
              "      <th>PaymentMethod_Mailed check</th>\n",
              "      <th>tenure</th>\n",
              "      <th>MonthlyCharges</th>\n",
              "      <th>TotalCharges</th>\n",
              "      <th>Churn</th>\n",
              "    </tr>\n",
              "  </thead>\n",
              "  <tbody>\n",
              "    <tr>\n",
              "      <th>6908</th>\n",
              "      <td>0</td>\n",
              "      <td>0</td>\n",
              "      <td>0</td>\n",
              "      <td>1</td>\n",
              "      <td>1</td>\n",
              "      <td>0</td>\n",
              "      <td>0</td>\n",
              "      <td>0</td>\n",
              "      <td>0</td>\n",
              "      <td>0</td>\n",
              "      <td>0</td>\n",
              "      <td>0</td>\n",
              "      <td>0</td>\n",
              "      <td>0</td>\n",
              "      <td>0</td>\n",
              "      <td>0</td>\n",
              "      <td>0</td>\n",
              "      <td>0</td>\n",
              "      <td>0</td>\n",
              "      <td>1</td>\n",
              "      <td>0</td>\n",
              "      <td>0</td>\n",
              "      <td>0</td>\n",
              "      <td>0</td>\n",
              "      <td>0</td>\n",
              "      <td>1</td>\n",
              "      <td>0</td>\n",
              "      <td>9</td>\n",
              "      <td>55.35</td>\n",
              "      <td>21.207310</td>\n",
              "      <td>1</td>\n",
              "    </tr>\n",
              "    <tr>\n",
              "      <th>1530</th>\n",
              "      <td>0</td>\n",
              "      <td>0</td>\n",
              "      <td>1</td>\n",
              "      <td>1</td>\n",
              "      <td>1</td>\n",
              "      <td>0</td>\n",
              "      <td>0</td>\n",
              "      <td>0</td>\n",
              "      <td>1</td>\n",
              "      <td>0</td>\n",
              "      <td>0</td>\n",
              "      <td>0</td>\n",
              "      <td>0</td>\n",
              "      <td>0</td>\n",
              "      <td>0</td>\n",
              "      <td>1</td>\n",
              "      <td>0</td>\n",
              "      <td>1</td>\n",
              "      <td>0</td>\n",
              "      <td>0</td>\n",
              "      <td>0</td>\n",
              "      <td>1</td>\n",
              "      <td>0</td>\n",
              "      <td>0</td>\n",
              "      <td>1</td>\n",
              "      <td>0</td>\n",
              "      <td>0</td>\n",
              "      <td>2</td>\n",
              "      <td>90.00</td>\n",
              "      <td>13.785862</td>\n",
              "      <td>1</td>\n",
              "    </tr>\n",
              "    <tr>\n",
              "      <th>3617</th>\n",
              "      <td>0</td>\n",
              "      <td>0</td>\n",
              "      <td>1</td>\n",
              "      <td>0</td>\n",
              "      <td>0</td>\n",
              "      <td>1</td>\n",
              "      <td>1</td>\n",
              "      <td>0</td>\n",
              "      <td>0</td>\n",
              "      <td>0</td>\n",
              "      <td>0</td>\n",
              "      <td>0</td>\n",
              "      <td>0</td>\n",
              "      <td>0</td>\n",
              "      <td>0</td>\n",
              "      <td>1</td>\n",
              "      <td>0</td>\n",
              "      <td>0</td>\n",
              "      <td>0</td>\n",
              "      <td>1</td>\n",
              "      <td>0</td>\n",
              "      <td>1</td>\n",
              "      <td>0</td>\n",
              "      <td>0</td>\n",
              "      <td>0</td>\n",
              "      <td>1</td>\n",
              "      <td>0</td>\n",
              "      <td>18</td>\n",
              "      <td>48.35</td>\n",
              "      <td>28.472794</td>\n",
              "      <td>1</td>\n",
              "    </tr>\n",
              "    <tr>\n",
              "      <th>6800</th>\n",
              "      <td>0</td>\n",
              "      <td>0</td>\n",
              "      <td>1</td>\n",
              "      <td>0</td>\n",
              "      <td>1</td>\n",
              "      <td>0</td>\n",
              "      <td>0</td>\n",
              "      <td>0</td>\n",
              "      <td>1</td>\n",
              "      <td>0</td>\n",
              "      <td>0</td>\n",
              "      <td>1</td>\n",
              "      <td>0</td>\n",
              "      <td>1</td>\n",
              "      <td>0</td>\n",
              "      <td>0</td>\n",
              "      <td>0</td>\n",
              "      <td>1</td>\n",
              "      <td>0</td>\n",
              "      <td>1</td>\n",
              "      <td>0</td>\n",
              "      <td>1</td>\n",
              "      <td>1</td>\n",
              "      <td>0</td>\n",
              "      <td>0</td>\n",
              "      <td>0</td>\n",
              "      <td>1</td>\n",
              "      <td>14</td>\n",
              "      <td>105.95</td>\n",
              "      <td>36.727374</td>\n",
              "      <td>1</td>\n",
              "    </tr>\n",
              "    <tr>\n",
              "      <th>3772</th>\n",
              "      <td>0</td>\n",
              "      <td>0</td>\n",
              "      <td>1</td>\n",
              "      <td>0</td>\n",
              "      <td>1</td>\n",
              "      <td>1</td>\n",
              "      <td>0</td>\n",
              "      <td>0</td>\n",
              "      <td>1</td>\n",
              "      <td>0</td>\n",
              "      <td>0</td>\n",
              "      <td>1</td>\n",
              "      <td>0</td>\n",
              "      <td>0</td>\n",
              "      <td>0</td>\n",
              "      <td>0</td>\n",
              "      <td>0</td>\n",
              "      <td>0</td>\n",
              "      <td>0</td>\n",
              "      <td>1</td>\n",
              "      <td>0</td>\n",
              "      <td>1</td>\n",
              "      <td>0</td>\n",
              "      <td>0</td>\n",
              "      <td>0</td>\n",
              "      <td>1</td>\n",
              "      <td>0</td>\n",
              "      <td>1</td>\n",
              "      <td>95.00</td>\n",
              "      <td>9.746794</td>\n",
              "      <td>1</td>\n",
              "    </tr>\n",
              "    <tr>\n",
              "      <th>...</th>\n",
              "      <td>...</td>\n",
              "      <td>...</td>\n",
              "      <td>...</td>\n",
              "      <td>...</td>\n",
              "      <td>...</td>\n",
              "      <td>...</td>\n",
              "      <td>...</td>\n",
              "      <td>...</td>\n",
              "      <td>...</td>\n",
              "      <td>...</td>\n",
              "      <td>...</td>\n",
              "      <td>...</td>\n",
              "      <td>...</td>\n",
              "      <td>...</td>\n",
              "      <td>...</td>\n",
              "      <td>...</td>\n",
              "      <td>...</td>\n",
              "      <td>...</td>\n",
              "      <td>...</td>\n",
              "      <td>...</td>\n",
              "      <td>...</td>\n",
              "      <td>...</td>\n",
              "      <td>...</td>\n",
              "      <td>...</td>\n",
              "      <td>...</td>\n",
              "      <td>...</td>\n",
              "      <td>...</td>\n",
              "      <td>...</td>\n",
              "      <td>...</td>\n",
              "      <td>...</td>\n",
              "      <td>...</td>\n",
              "    </tr>\n",
              "    <tr>\n",
              "      <th>6303</th>\n",
              "      <td>0</td>\n",
              "      <td>0</td>\n",
              "      <td>1</td>\n",
              "      <td>0</td>\n",
              "      <td>1</td>\n",
              "      <td>0</td>\n",
              "      <td>0</td>\n",
              "      <td>1</td>\n",
              "      <td>1</td>\n",
              "      <td>0</td>\n",
              "      <td>0</td>\n",
              "      <td>0</td>\n",
              "      <td>0</td>\n",
              "      <td>1</td>\n",
              "      <td>0</td>\n",
              "      <td>1</td>\n",
              "      <td>0</td>\n",
              "      <td>1</td>\n",
              "      <td>0</td>\n",
              "      <td>1</td>\n",
              "      <td>0</td>\n",
              "      <td>1</td>\n",
              "      <td>0</td>\n",
              "      <td>1</td>\n",
              "      <td>0</td>\n",
              "      <td>1</td>\n",
              "      <td>0</td>\n",
              "      <td>71</td>\n",
              "      <td>109.25</td>\n",
              "      <td>87.793508</td>\n",
              "      <td>0</td>\n",
              "    </tr>\n",
              "    <tr>\n",
              "      <th>3663</th>\n",
              "      <td>0</td>\n",
              "      <td>0</td>\n",
              "      <td>0</td>\n",
              "      <td>0</td>\n",
              "      <td>1</td>\n",
              "      <td>1</td>\n",
              "      <td>0</td>\n",
              "      <td>0</td>\n",
              "      <td>1</td>\n",
              "      <td>0</td>\n",
              "      <td>0</td>\n",
              "      <td>0</td>\n",
              "      <td>0</td>\n",
              "      <td>0</td>\n",
              "      <td>0</td>\n",
              "      <td>0</td>\n",
              "      <td>0</td>\n",
              "      <td>0</td>\n",
              "      <td>0</td>\n",
              "      <td>1</td>\n",
              "      <td>0</td>\n",
              "      <td>1</td>\n",
              "      <td>0</td>\n",
              "      <td>0</td>\n",
              "      <td>0</td>\n",
              "      <td>0</td>\n",
              "      <td>1</td>\n",
              "      <td>9</td>\n",
              "      <td>88.40</td>\n",
              "      <td>28.082023</td>\n",
              "      <td>0</td>\n",
              "    </tr>\n",
              "    <tr>\n",
              "      <th>5033</th>\n",
              "      <td>0</td>\n",
              "      <td>0</td>\n",
              "      <td>0</td>\n",
              "      <td>0</td>\n",
              "      <td>1</td>\n",
              "      <td>1</td>\n",
              "      <td>0</td>\n",
              "      <td>0</td>\n",
              "      <td>0</td>\n",
              "      <td>1</td>\n",
              "      <td>1</td>\n",
              "      <td>0</td>\n",
              "      <td>1</td>\n",
              "      <td>0</td>\n",
              "      <td>1</td>\n",
              "      <td>0</td>\n",
              "      <td>1</td>\n",
              "      <td>0</td>\n",
              "      <td>1</td>\n",
              "      <td>0</td>\n",
              "      <td>1</td>\n",
              "      <td>0</td>\n",
              "      <td>0</td>\n",
              "      <td>0</td>\n",
              "      <td>0</td>\n",
              "      <td>0</td>\n",
              "      <td>1</td>\n",
              "      <td>1</td>\n",
              "      <td>19.40</td>\n",
              "      <td>4.404543</td>\n",
              "      <td>0</td>\n",
              "    </tr>\n",
              "    <tr>\n",
              "      <th>2183</th>\n",
              "      <td>0</td>\n",
              "      <td>0</td>\n",
              "      <td>0</td>\n",
              "      <td>0</td>\n",
              "      <td>1</td>\n",
              "      <td>1</td>\n",
              "      <td>0</td>\n",
              "      <td>0</td>\n",
              "      <td>0</td>\n",
              "      <td>0</td>\n",
              "      <td>0</td>\n",
              "      <td>0</td>\n",
              "      <td>0</td>\n",
              "      <td>0</td>\n",
              "      <td>0</td>\n",
              "      <td>0</td>\n",
              "      <td>0</td>\n",
              "      <td>1</td>\n",
              "      <td>0</td>\n",
              "      <td>0</td>\n",
              "      <td>0</td>\n",
              "      <td>0</td>\n",
              "      <td>0</td>\n",
              "      <td>0</td>\n",
              "      <td>1</td>\n",
              "      <td>0</td>\n",
              "      <td>0</td>\n",
              "      <td>2</td>\n",
              "      <td>50.20</td>\n",
              "      <td>10.452272</td>\n",
              "      <td>0</td>\n",
              "    </tr>\n",
              "    <tr>\n",
              "      <th>2403</th>\n",
              "      <td>0</td>\n",
              "      <td>0</td>\n",
              "      <td>1</td>\n",
              "      <td>0</td>\n",
              "      <td>1</td>\n",
              "      <td>1</td>\n",
              "      <td>0</td>\n",
              "      <td>0</td>\n",
              "      <td>0</td>\n",
              "      <td>0</td>\n",
              "      <td>0</td>\n",
              "      <td>1</td>\n",
              "      <td>0</td>\n",
              "      <td>1</td>\n",
              "      <td>0</td>\n",
              "      <td>1</td>\n",
              "      <td>0</td>\n",
              "      <td>1</td>\n",
              "      <td>0</td>\n",
              "      <td>1</td>\n",
              "      <td>0</td>\n",
              "      <td>1</td>\n",
              "      <td>1</td>\n",
              "      <td>0</td>\n",
              "      <td>0</td>\n",
              "      <td>0</td>\n",
              "      <td>0</td>\n",
              "      <td>71</td>\n",
              "      <td>84.80</td>\n",
              "      <td>77.756672</td>\n",
              "      <td>0</td>\n",
              "    </tr>\n",
              "  </tbody>\n",
              "</table>\n",
              "<p>2242 rows × 31 columns</p>\n",
              "</div>"
            ],
            "text/plain": [
              "      gender  SeniorCitizen  Partner  ...  MonthlyCharges  TotalCharges  Churn\n",
              "6908       0              0        0  ...           55.35     21.207310      1\n",
              "1530       0              0        1  ...           90.00     13.785862      1\n",
              "3617       0              0        1  ...           48.35     28.472794      1\n",
              "6800       0              0        1  ...          105.95     36.727374      1\n",
              "3772       0              0        1  ...           95.00      9.746794      1\n",
              "...      ...            ...      ...  ...             ...           ...    ...\n",
              "6303       0              0        1  ...          109.25     87.793508      0\n",
              "3663       0              0        0  ...           88.40     28.082023      0\n",
              "5033       0              0        0  ...           19.40      4.404543      0\n",
              "2183       0              0        0  ...           50.20     10.452272      0\n",
              "2403       0              0        1  ...           84.80     77.756672      0\n",
              "\n",
              "[2242 rows x 31 columns]"
            ]
          },
          "metadata": {
            "tags": []
          },
          "execution_count": 40
        }
      ]
    },
    {
      "cell_type": "code",
      "metadata": {
        "colab": {
          "base_uri": "https://localhost:8080/"
        },
        "id": "n_s1AHd31Q9F",
        "outputId": "db914ece-49c3-4735-82c9-0e9b6dcb5873"
      },
      "source": [
        "downsampled['Churn'].value_counts(normalize = True)"
      ],
      "execution_count": 41,
      "outputs": [
        {
          "output_type": "execute_result",
          "data": {
            "text/plain": [
              "1    0.5\n",
              "0    0.5\n",
              "Name: Churn, dtype: float64"
            ]
          },
          "metadata": {
            "tags": []
          },
          "execution_count": 41
        }
      ]
    },
    {
      "cell_type": "code",
      "metadata": {
        "id": "g-hQUnQ21Q6S"
      },
      "source": [
        "X_train_down = downsampled.drop('Churn', axis =1)\n",
        "\n",
        "y_train_down = downsampled['Churn']"
      ],
      "execution_count": 42,
      "outputs": []
    },
    {
      "cell_type": "code",
      "metadata": {
        "id": "-uwJRYII1Q2F"
      },
      "source": [
        "# y_train et X_train \n",
        "\n",
        "y_train = X_train['Churn']\n",
        "\n",
        "X_train = X_train.drop('Churn', axis=1)"
      ],
      "execution_count": 43,
      "outputs": []
    },
    {
      "cell_type": "markdown",
      "metadata": {
        "id": "gaaZxZCO82eJ"
      },
      "source": [
        "***Choix possibles : (X_train, y_train), (X_train_up, y_train_up) et (X_train_down, y_train_down)***"
      ]
    },
    {
      "cell_type": "code",
      "metadata": {
        "id": "fNDlTYJW1Qxq"
      },
      "source": [
        "train_features = X_train_up \n",
        "\n",
        "train_labels = y_train_up"
      ],
      "execution_count": 44,
      "outputs": []
    },
    {
      "cell_type": "markdown",
      "metadata": {
        "id": "G628Qzxq9jC6"
      },
      "source": [
        "Normalisation "
      ]
    },
    {
      "cell_type": "code",
      "metadata": {
        "colab": {
          "base_uri": "https://localhost:8080/",
          "height": 258
        },
        "id": "b7bpBJdT1QtT",
        "outputId": "942facf1-a9c3-45cc-ce0f-ef3b09aaaef6"
      },
      "source": [
        "train_features.head()"
      ],
      "execution_count": 45,
      "outputs": [
        {
          "output_type": "execute_result",
          "data": {
            "text/html": [
              "<div>\n",
              "<style scoped>\n",
              "    .dataframe tbody tr th:only-of-type {\n",
              "        vertical-align: middle;\n",
              "    }\n",
              "\n",
              "    .dataframe tbody tr th {\n",
              "        vertical-align: top;\n",
              "    }\n",
              "\n",
              "    .dataframe thead th {\n",
              "        text-align: right;\n",
              "    }\n",
              "</style>\n",
              "<table border=\"1\" class=\"dataframe\">\n",
              "  <thead>\n",
              "    <tr style=\"text-align: right;\">\n",
              "      <th></th>\n",
              "      <th>gender</th>\n",
              "      <th>SeniorCitizen</th>\n",
              "      <th>Partner</th>\n",
              "      <th>Dependents</th>\n",
              "      <th>PhoneService</th>\n",
              "      <th>PaperlessBilling</th>\n",
              "      <th>MultipleLines_No phone service</th>\n",
              "      <th>MultipleLines_Yes</th>\n",
              "      <th>InternetService_Fiber optic</th>\n",
              "      <th>InternetService_No</th>\n",
              "      <th>OnlineSecurity_No internet service</th>\n",
              "      <th>OnlineSecurity_Yes</th>\n",
              "      <th>OnlineBackup_No internet service</th>\n",
              "      <th>OnlineBackup_Yes</th>\n",
              "      <th>DeviceProtection_No internet service</th>\n",
              "      <th>DeviceProtection_Yes</th>\n",
              "      <th>TechSupport_No internet service</th>\n",
              "      <th>TechSupport_Yes</th>\n",
              "      <th>StreamingTV_No internet service</th>\n",
              "      <th>StreamingTV_Yes</th>\n",
              "      <th>StreamingMovies_No internet service</th>\n",
              "      <th>StreamingMovies_Yes</th>\n",
              "      <th>Contract_One year</th>\n",
              "      <th>Contract_Two year</th>\n",
              "      <th>PaymentMethod_Credit card (automatic)</th>\n",
              "      <th>PaymentMethod_Electronic check</th>\n",
              "      <th>PaymentMethod_Mailed check</th>\n",
              "      <th>tenure</th>\n",
              "      <th>MonthlyCharges</th>\n",
              "      <th>TotalCharges</th>\n",
              "    </tr>\n",
              "  </thead>\n",
              "  <tbody>\n",
              "    <tr>\n",
              "      <th>6406</th>\n",
              "      <td>0</td>\n",
              "      <td>0</td>\n",
              "      <td>0</td>\n",
              "      <td>0</td>\n",
              "      <td>0</td>\n",
              "      <td>1</td>\n",
              "      <td>1</td>\n",
              "      <td>0</td>\n",
              "      <td>0</td>\n",
              "      <td>0</td>\n",
              "      <td>0</td>\n",
              "      <td>0</td>\n",
              "      <td>0</td>\n",
              "      <td>0</td>\n",
              "      <td>0</td>\n",
              "      <td>1</td>\n",
              "      <td>0</td>\n",
              "      <td>0</td>\n",
              "      <td>0</td>\n",
              "      <td>1</td>\n",
              "      <td>0</td>\n",
              "      <td>1</td>\n",
              "      <td>0</td>\n",
              "      <td>0</td>\n",
              "      <td>1</td>\n",
              "      <td>0</td>\n",
              "      <td>0</td>\n",
              "      <td>39</td>\n",
              "      <td>50.65</td>\n",
              "      <td>43.650888</td>\n",
              "    </tr>\n",
              "    <tr>\n",
              "      <th>6124</th>\n",
              "      <td>0</td>\n",
              "      <td>0</td>\n",
              "      <td>1</td>\n",
              "      <td>1</td>\n",
              "      <td>1</td>\n",
              "      <td>1</td>\n",
              "      <td>0</td>\n",
              "      <td>0</td>\n",
              "      <td>0</td>\n",
              "      <td>0</td>\n",
              "      <td>0</td>\n",
              "      <td>1</td>\n",
              "      <td>0</td>\n",
              "      <td>0</td>\n",
              "      <td>0</td>\n",
              "      <td>1</td>\n",
              "      <td>0</td>\n",
              "      <td>1</td>\n",
              "      <td>0</td>\n",
              "      <td>0</td>\n",
              "      <td>0</td>\n",
              "      <td>0</td>\n",
              "      <td>1</td>\n",
              "      <td>0</td>\n",
              "      <td>0</td>\n",
              "      <td>0</td>\n",
              "      <td>1</td>\n",
              "      <td>57</td>\n",
              "      <td>59.30</td>\n",
              "      <td>57.221936</td>\n",
              "    </tr>\n",
              "    <tr>\n",
              "      <th>4051</th>\n",
              "      <td>0</td>\n",
              "      <td>0</td>\n",
              "      <td>1</td>\n",
              "      <td>0</td>\n",
              "      <td>1</td>\n",
              "      <td>1</td>\n",
              "      <td>0</td>\n",
              "      <td>1</td>\n",
              "      <td>1</td>\n",
              "      <td>0</td>\n",
              "      <td>0</td>\n",
              "      <td>0</td>\n",
              "      <td>0</td>\n",
              "      <td>1</td>\n",
              "      <td>0</td>\n",
              "      <td>0</td>\n",
              "      <td>0</td>\n",
              "      <td>0</td>\n",
              "      <td>0</td>\n",
              "      <td>1</td>\n",
              "      <td>0</td>\n",
              "      <td>1</td>\n",
              "      <td>0</td>\n",
              "      <td>1</td>\n",
              "      <td>1</td>\n",
              "      <td>0</td>\n",
              "      <td>0</td>\n",
              "      <td>72</td>\n",
              "      <td>97.70</td>\n",
              "      <td>82.883653</td>\n",
              "    </tr>\n",
              "    <tr>\n",
              "      <th>3839</th>\n",
              "      <td>0</td>\n",
              "      <td>0</td>\n",
              "      <td>1</td>\n",
              "      <td>1</td>\n",
              "      <td>1</td>\n",
              "      <td>0</td>\n",
              "      <td>0</td>\n",
              "      <td>0</td>\n",
              "      <td>0</td>\n",
              "      <td>1</td>\n",
              "      <td>1</td>\n",
              "      <td>0</td>\n",
              "      <td>1</td>\n",
              "      <td>0</td>\n",
              "      <td>1</td>\n",
              "      <td>0</td>\n",
              "      <td>1</td>\n",
              "      <td>0</td>\n",
              "      <td>1</td>\n",
              "      <td>0</td>\n",
              "      <td>1</td>\n",
              "      <td>0</td>\n",
              "      <td>0</td>\n",
              "      <td>0</td>\n",
              "      <td>0</td>\n",
              "      <td>0</td>\n",
              "      <td>1</td>\n",
              "      <td>15</td>\n",
              "      <td>20.05</td>\n",
              "      <td>16.861198</td>\n",
              "    </tr>\n",
              "    <tr>\n",
              "      <th>2523</th>\n",
              "      <td>0</td>\n",
              "      <td>0</td>\n",
              "      <td>1</td>\n",
              "      <td>1</td>\n",
              "      <td>1</td>\n",
              "      <td>0</td>\n",
              "      <td>0</td>\n",
              "      <td>0</td>\n",
              "      <td>0</td>\n",
              "      <td>1</td>\n",
              "      <td>1</td>\n",
              "      <td>0</td>\n",
              "      <td>1</td>\n",
              "      <td>0</td>\n",
              "      <td>1</td>\n",
              "      <td>0</td>\n",
              "      <td>1</td>\n",
              "      <td>0</td>\n",
              "      <td>1</td>\n",
              "      <td>0</td>\n",
              "      <td>1</td>\n",
              "      <td>0</td>\n",
              "      <td>0</td>\n",
              "      <td>1</td>\n",
              "      <td>1</td>\n",
              "      <td>0</td>\n",
              "      <td>0</td>\n",
              "      <td>47</td>\n",
              "      <td>20.25</td>\n",
              "      <td>29.553342</td>\n",
              "    </tr>\n",
              "  </tbody>\n",
              "</table>\n",
              "</div>"
            ],
            "text/plain": [
              "      gender  SeniorCitizen  Partner  ...  tenure  MonthlyCharges  TotalCharges\n",
              "6406       0              0        0  ...      39           50.65     43.650888\n",
              "6124       0              0        1  ...      57           59.30     57.221936\n",
              "4051       0              0        1  ...      72           97.70     82.883653\n",
              "3839       0              0        1  ...      15           20.05     16.861198\n",
              "2523       0              0        1  ...      47           20.25     29.553342\n",
              "\n",
              "[5 rows x 30 columns]"
            ]
          },
          "metadata": {
            "tags": []
          },
          "execution_count": 45
        }
      ]
    },
    {
      "cell_type": "code",
      "metadata": {
        "id": "VWcDLpCa1aI5"
      },
      "source": [
        "scaler = MinMaxScaler()\n",
        "\n",
        "mod_scaler = scaler.fit(train_features)\n",
        "train_features = mod_scaler.transform(train_features)\n",
        "X_val = mod_scaler.transform(X_val)\n",
        "X_test = mod_scaler.transform(X_test)\n",
        "\n",
        "train_features = pd.DataFrame(train_features, columns = X.columns)\n",
        "X_val = pd.DataFrame(X_val, columns = X.columns)\n",
        "X_test = pd.DataFrame(X_test, columns = X.columns)"
      ],
      "execution_count": 46,
      "outputs": []
    },
    {
      "cell_type": "code",
      "metadata": {
        "colab": {
          "base_uri": "https://localhost:8080/",
          "height": 258
        },
        "id": "zXAAoZ-_1aEj",
        "outputId": "4dd5ec1d-7e1e-4220-eb45-0ff5ffac6597"
      },
      "source": [
        "train_features.head()"
      ],
      "execution_count": 47,
      "outputs": [
        {
          "output_type": "execute_result",
          "data": {
            "text/html": [
              "<div>\n",
              "<style scoped>\n",
              "    .dataframe tbody tr th:only-of-type {\n",
              "        vertical-align: middle;\n",
              "    }\n",
              "\n",
              "    .dataframe tbody tr th {\n",
              "        vertical-align: top;\n",
              "    }\n",
              "\n",
              "    .dataframe thead th {\n",
              "        text-align: right;\n",
              "    }\n",
              "</style>\n",
              "<table border=\"1\" class=\"dataframe\">\n",
              "  <thead>\n",
              "    <tr style=\"text-align: right;\">\n",
              "      <th></th>\n",
              "      <th>gender</th>\n",
              "      <th>SeniorCitizen</th>\n",
              "      <th>Partner</th>\n",
              "      <th>Dependents</th>\n",
              "      <th>PhoneService</th>\n",
              "      <th>PaperlessBilling</th>\n",
              "      <th>MultipleLines_No phone service</th>\n",
              "      <th>MultipleLines_Yes</th>\n",
              "      <th>InternetService_Fiber optic</th>\n",
              "      <th>InternetService_No</th>\n",
              "      <th>OnlineSecurity_No internet service</th>\n",
              "      <th>OnlineSecurity_Yes</th>\n",
              "      <th>OnlineBackup_No internet service</th>\n",
              "      <th>OnlineBackup_Yes</th>\n",
              "      <th>DeviceProtection_No internet service</th>\n",
              "      <th>DeviceProtection_Yes</th>\n",
              "      <th>TechSupport_No internet service</th>\n",
              "      <th>TechSupport_Yes</th>\n",
              "      <th>StreamingTV_No internet service</th>\n",
              "      <th>StreamingTV_Yes</th>\n",
              "      <th>StreamingMovies_No internet service</th>\n",
              "      <th>StreamingMovies_Yes</th>\n",
              "      <th>Contract_One year</th>\n",
              "      <th>Contract_Two year</th>\n",
              "      <th>PaymentMethod_Credit card (automatic)</th>\n",
              "      <th>PaymentMethod_Electronic check</th>\n",
              "      <th>PaymentMethod_Mailed check</th>\n",
              "      <th>tenure</th>\n",
              "      <th>MonthlyCharges</th>\n",
              "      <th>TotalCharges</th>\n",
              "    </tr>\n",
              "  </thead>\n",
              "  <tbody>\n",
              "    <tr>\n",
              "      <th>0</th>\n",
              "      <td>0.0</td>\n",
              "      <td>0.0</td>\n",
              "      <td>0.0</td>\n",
              "      <td>0.0</td>\n",
              "      <td>0.0</td>\n",
              "      <td>1.0</td>\n",
              "      <td>1.0</td>\n",
              "      <td>0.0</td>\n",
              "      <td>0.0</td>\n",
              "      <td>0.0</td>\n",
              "      <td>0.0</td>\n",
              "      <td>0.0</td>\n",
              "      <td>0.0</td>\n",
              "      <td>0.0</td>\n",
              "      <td>0.0</td>\n",
              "      <td>1.0</td>\n",
              "      <td>0.0</td>\n",
              "      <td>0.0</td>\n",
              "      <td>0.0</td>\n",
              "      <td>1.0</td>\n",
              "      <td>0.0</td>\n",
              "      <td>1.0</td>\n",
              "      <td>0.0</td>\n",
              "      <td>0.0</td>\n",
              "      <td>1.0</td>\n",
              "      <td>0.0</td>\n",
              "      <td>0.0</td>\n",
              "      <td>0.535211</td>\n",
              "      <td>0.322388</td>\n",
              "      <td>0.442455</td>\n",
              "    </tr>\n",
              "    <tr>\n",
              "      <th>1</th>\n",
              "      <td>0.0</td>\n",
              "      <td>0.0</td>\n",
              "      <td>1.0</td>\n",
              "      <td>1.0</td>\n",
              "      <td>1.0</td>\n",
              "      <td>1.0</td>\n",
              "      <td>0.0</td>\n",
              "      <td>0.0</td>\n",
              "      <td>0.0</td>\n",
              "      <td>0.0</td>\n",
              "      <td>0.0</td>\n",
              "      <td>1.0</td>\n",
              "      <td>0.0</td>\n",
              "      <td>0.0</td>\n",
              "      <td>0.0</td>\n",
              "      <td>1.0</td>\n",
              "      <td>0.0</td>\n",
              "      <td>1.0</td>\n",
              "      <td>0.0</td>\n",
              "      <td>0.0</td>\n",
              "      <td>0.0</td>\n",
              "      <td>0.0</td>\n",
              "      <td>1.0</td>\n",
              "      <td>0.0</td>\n",
              "      <td>0.0</td>\n",
              "      <td>0.0</td>\n",
              "      <td>1.0</td>\n",
              "      <td>0.788732</td>\n",
              "      <td>0.408458</td>\n",
              "      <td>0.595186</td>\n",
              "    </tr>\n",
              "    <tr>\n",
              "      <th>2</th>\n",
              "      <td>0.0</td>\n",
              "      <td>0.0</td>\n",
              "      <td>1.0</td>\n",
              "      <td>0.0</td>\n",
              "      <td>1.0</td>\n",
              "      <td>1.0</td>\n",
              "      <td>0.0</td>\n",
              "      <td>1.0</td>\n",
              "      <td>1.0</td>\n",
              "      <td>0.0</td>\n",
              "      <td>0.0</td>\n",
              "      <td>0.0</td>\n",
              "      <td>0.0</td>\n",
              "      <td>1.0</td>\n",
              "      <td>0.0</td>\n",
              "      <td>0.0</td>\n",
              "      <td>0.0</td>\n",
              "      <td>0.0</td>\n",
              "      <td>0.0</td>\n",
              "      <td>1.0</td>\n",
              "      <td>0.0</td>\n",
              "      <td>1.0</td>\n",
              "      <td>0.0</td>\n",
              "      <td>1.0</td>\n",
              "      <td>1.0</td>\n",
              "      <td>0.0</td>\n",
              "      <td>0.0</td>\n",
              "      <td>1.000000</td>\n",
              "      <td>0.790547</td>\n",
              "      <td>0.883986</td>\n",
              "    </tr>\n",
              "    <tr>\n",
              "      <th>3</th>\n",
              "      <td>0.0</td>\n",
              "      <td>0.0</td>\n",
              "      <td>1.0</td>\n",
              "      <td>1.0</td>\n",
              "      <td>1.0</td>\n",
              "      <td>0.0</td>\n",
              "      <td>0.0</td>\n",
              "      <td>0.0</td>\n",
              "      <td>0.0</td>\n",
              "      <td>1.0</td>\n",
              "      <td>1.0</td>\n",
              "      <td>0.0</td>\n",
              "      <td>1.0</td>\n",
              "      <td>0.0</td>\n",
              "      <td>1.0</td>\n",
              "      <td>0.0</td>\n",
              "      <td>1.0</td>\n",
              "      <td>0.0</td>\n",
              "      <td>1.0</td>\n",
              "      <td>0.0</td>\n",
              "      <td>1.0</td>\n",
              "      <td>0.0</td>\n",
              "      <td>0.0</td>\n",
              "      <td>0.0</td>\n",
              "      <td>0.0</td>\n",
              "      <td>0.0</td>\n",
              "      <td>1.0</td>\n",
              "      <td>0.197183</td>\n",
              "      <td>0.017910</td>\n",
              "      <td>0.140961</td>\n",
              "    </tr>\n",
              "    <tr>\n",
              "      <th>4</th>\n",
              "      <td>0.0</td>\n",
              "      <td>0.0</td>\n",
              "      <td>1.0</td>\n",
              "      <td>1.0</td>\n",
              "      <td>1.0</td>\n",
              "      <td>0.0</td>\n",
              "      <td>0.0</td>\n",
              "      <td>0.0</td>\n",
              "      <td>0.0</td>\n",
              "      <td>1.0</td>\n",
              "      <td>1.0</td>\n",
              "      <td>0.0</td>\n",
              "      <td>1.0</td>\n",
              "      <td>0.0</td>\n",
              "      <td>1.0</td>\n",
              "      <td>0.0</td>\n",
              "      <td>1.0</td>\n",
              "      <td>0.0</td>\n",
              "      <td>1.0</td>\n",
              "      <td>0.0</td>\n",
              "      <td>1.0</td>\n",
              "      <td>0.0</td>\n",
              "      <td>0.0</td>\n",
              "      <td>1.0</td>\n",
              "      <td>1.0</td>\n",
              "      <td>0.0</td>\n",
              "      <td>0.0</td>\n",
              "      <td>0.647887</td>\n",
              "      <td>0.019900</td>\n",
              "      <td>0.283800</td>\n",
              "    </tr>\n",
              "  </tbody>\n",
              "</table>\n",
              "</div>"
            ],
            "text/plain": [
              "   gender  SeniorCitizen  Partner  ...    tenure  MonthlyCharges  TotalCharges\n",
              "0     0.0            0.0      0.0  ...  0.535211        0.322388      0.442455\n",
              "1     0.0            0.0      1.0  ...  0.788732        0.408458      0.595186\n",
              "2     0.0            0.0      1.0  ...  1.000000        0.790547      0.883986\n",
              "3     0.0            0.0      1.0  ...  0.197183        0.017910      0.140961\n",
              "4     0.0            0.0      1.0  ...  0.647887        0.019900      0.283800\n",
              "\n",
              "[5 rows x 30 columns]"
            ]
          },
          "metadata": {
            "tags": []
          },
          "execution_count": 47
        }
      ]
    },
    {
      "cell_type": "markdown",
      "metadata": {
        "id": "Vty7_FO8ArHX"
      },
      "source": [
        "## Modelisation "
      ]
    },
    {
      "cell_type": "code",
      "metadata": {
        "id": "MLPaOfv_1aAr",
        "colab": {
          "base_uri": "https://localhost:8080/"
        },
        "outputId": "39dcfb54-1493-4d62-9954-7e45f95c7cf6"
      },
      "source": [
        "# Selection des meilleures variables predictrices \n",
        "\n",
        "rf = RandomForestClassifier()\n",
        "rf.fit(train_features, train_labels)\n",
        "print(classification_report(y_val, rf.predict(X_val)))"
      ],
      "execution_count": 48,
      "outputs": [
        {
          "output_type": "stream",
          "text": [
            "              precision    recall  f1-score   support\n",
            "\n",
            "           0       0.83      0.85      0.84      1032\n",
            "           1       0.56      0.52      0.54       374\n",
            "\n",
            "    accuracy                           0.77      1406\n",
            "   macro avg       0.70      0.69      0.69      1406\n",
            "weighted avg       0.76      0.77      0.76      1406\n",
            "\n"
          ],
          "name": "stdout"
        }
      ]
    },
    {
      "cell_type": "code",
      "metadata": {
        "id": "OuKlNki137-9",
        "colab": {
          "base_uri": "https://localhost:8080/",
          "height": 613
        },
        "outputId": "e0b62454-b69c-49de-ef27-f94841bd6e23"
      },
      "source": [
        "# Importance des variables indépendantes \n",
        "\n",
        "plt.figure(figsize=(14, 6)) # pour agrandire le graphe\n",
        "plt.xticks(rotation=90) \n",
        "vars_imp = pd.Series(rf.feature_importances_, index = train_features.columns).sort_values(ascending=False)\n",
        "\n",
        "sns.barplot(x = vars_imp.index, y = vars_imp)\n",
        "plt.ylabel(\"Score d'importance de la variable\")\n",
        "plt.xlabel(\"Variables\")\n",
        "plt.title(\"Importance des variables predictrices\")"
      ],
      "execution_count": 49,
      "outputs": [
        {
          "output_type": "execute_result",
          "data": {
            "text/plain": [
              "Text(0.5, 1.0, 'Importance des variables predictrices')"
            ]
          },
          "metadata": {
            "tags": []
          },
          "execution_count": 49
        },
        {
          "output_type": "display_data",
          "data": {
            "image/png": "[encoded data removed]",
            "text/plain": [
              "<Figure size 1008x432 with 1 Axes>"
            ]
          },
          "metadata": {
            "tags": [],
            "needs_background": "light"
          }
        }
      ]
    },
    {
      "cell_type": "code",
      "metadata": {
        "id": "on07keLO8hmb",
        "colab": {
          "base_uri": "https://localhost:8080/"
        },
        "outputId": "a4771361-b8a5-4850-ab29-91857c5aef5c"
      },
      "source": [
        "# Affichage de vars_imp\n",
        "\n",
        "vars_imp "
      ],
      "execution_count": 50,
      "outputs": [
        {
          "output_type": "execute_result",
          "data": {
            "text/plain": [
              "TotalCharges                             0.177614\n",
              "tenure                                   0.174629\n",
              "MonthlyCharges                           0.156986\n",
              "Contract_Two year                        0.076110\n",
              "PaymentMethod_Electronic check           0.046287\n",
              "InternetService_Fiber optic              0.043551\n",
              "Contract_One year                        0.035459\n",
              "OnlineSecurity_Yes                       0.025042\n",
              "PaperlessBilling                         0.023703\n",
              "TechSupport_Yes                          0.021489\n",
              "Partner                                  0.021072\n",
              "OnlineBackup_Yes                         0.020540\n",
              "Dependents                               0.019373\n",
              "MultipleLines_Yes                        0.019186\n",
              "DeviceProtection_Yes                     0.017428\n",
              "StreamingTV_Yes                          0.017354\n",
              "StreamingMovies_Yes                      0.017347\n",
              "PaymentMethod_Credit card (automatic)    0.013245\n",
              "StreamingTV_No internet service          0.012561\n",
              "PaymentMethod_Mailed check               0.012308\n",
              "StreamingMovies_No internet service      0.008771\n",
              "DeviceProtection_No internet service     0.008771\n",
              "TechSupport_No internet service          0.006180\n",
              "OnlineBackup_No internet service         0.005839\n",
              "OnlineSecurity_No internet service       0.005477\n",
              "InternetService_No                       0.004841\n",
              "PhoneService                             0.004535\n",
              "MultipleLines_No phone service           0.004301\n",
              "SeniorCitizen                            0.000000\n",
              "gender                                   0.000000\n",
              "dtype: float64"
            ]
          },
          "metadata": {
            "tags": []
          },
          "execution_count": 50
        }
      ]
    },
    {
      "cell_type": "code",
      "metadata": {
        "id": "DCtcyuB68hjV"
      },
      "source": [
        "seuil = 0.009\n",
        "\n",
        "vars_selected = vars_imp[vars_imp>0.009].index.to_list()\n",
        "\n",
        "train_features = train_features[vars_selected]\n",
        "\n",
        "X_val = X_val[vars_selected]\n",
        "\n",
        "X_test = X_test[vars_selected]"
      ],
      "execution_count": 51,
      "outputs": []
    },
    {
      "cell_type": "code",
      "metadata": {
        "id": "XuTw5rhi8hfg",
        "colab": {
          "base_uri": "https://localhost:8080/"
        },
        "outputId": "8829654f-3b4a-4a62-e282-2a4cce4bb9f3"
      },
      "source": [
        "len(vars_selected)"
      ],
      "execution_count": 52,
      "outputs": [
        {
          "output_type": "execute_result",
          "data": {
            "text/plain": [
              "20"
            ]
          },
          "metadata": {
            "tags": []
          },
          "execution_count": 52
        }
      ]
    },
    {
      "cell_type": "markdown",
      "metadata": {
        "id": "JPchwf4jKc6u"
      },
      "source": [
        "### Regression logistique "
      ]
    },
    {
      "cell_type": "code",
      "metadata": {
        "id": "ea54za4z8hbE",
        "colab": {
          "base_uri": "https://localhost:8080/"
        },
        "outputId": "b66d5461-2608-404d-84e8-f01f4f19c572"
      },
      "source": [
        "# hyperparametres \n",
        "\n",
        "param_grid = {'C':[0.001, 0.01, 1, 10, 50, 100, 500]}\n",
        "\n",
        "# GridSearchCV \n",
        "\n",
        "grid_lr_class = GridSearchCV(estimator=LogisticRegression(random_state=seed, max_iter=500), \n",
        "                             param_grid=param_grid,\n",
        "                             scoring='f1',\n",
        "                             cv=5)\n",
        "\n",
        "# Training de l'algo \n",
        "\n",
        "lr_model = grid_lr_class.fit(train_features, train_labels)\n",
        "\n",
        "# Meilleur score et hyperparametre \n",
        "\n",
        "print(round(lr_model.best_score_, 3))\n",
        "\n",
        "print(lr_model.best_estimator_)\n",
        "\n",
        "\n"
      ],
      "execution_count": 53,
      "outputs": [
        {
          "output_type": "stream",
          "text": [
            "0.79\n",
            "LogisticRegression(C=500, class_weight=None, dual=False, fit_intercept=True,\n",
            "                   intercept_scaling=1, l1_ratio=None, max_iter=500,\n",
            "                   multi_class='auto', n_jobs=None, penalty='l2',\n",
            "                   random_state=1111, solver='lbfgs', tol=0.0001, verbose=0,\n",
            "                   warm_start=False)\n"
          ],
          "name": "stdout"
        }
      ]
    },
    {
      "cell_type": "code",
      "metadata": {
        "id": "YzBz4AhZ-xR6"
      },
      "source": [
        "# Fonction d'évaluation de la performance de l'algorithme\n",
        "\n",
        "def model_evaluation(model, features, labels):\n",
        "  pred = model.predict(features)\n",
        "  print(classification_report(labels, pred))"
      ],
      "execution_count": 54,
      "outputs": []
    },
    {
      "cell_type": "code",
      "metadata": {
        "id": "vk-5V4OyKqV5",
        "colab": {
          "base_uri": "https://localhost:8080/"
        },
        "outputId": "3bb3889c-8d24-476e-b70d-5b9d54e7001b"
      },
      "source": [
        "model_evaluation(lr_model, X_val, y_val)"
      ],
      "execution_count": 55,
      "outputs": [
        {
          "output_type": "stream",
          "text": [
            "              precision    recall  f1-score   support\n",
            "\n",
            "           0       0.89      0.75      0.81      1032\n",
            "           1       0.51      0.74      0.61       374\n",
            "\n",
            "    accuracy                           0.75      1406\n",
            "   macro avg       0.70      0.74      0.71      1406\n",
            "weighted avg       0.79      0.75      0.76      1406\n",
            "\n"
          ],
          "name": "stdout"
        }
      ]
    },
    {
      "cell_type": "code",
      "metadata": {
        "id": "lYyaaKGxKqKo"
      },
      "source": [
        "# RFE : En applicant cette methode on va voir si le modele garde les memes performances lorsqu'on reduit les dimensions \n",
        "\n",
        "def model_with_rfe(model):\n",
        "  rfe_model = RFE(estimator=model, verbose=0)\n",
        "  rfe_model.fit(train_features, train_labels)\n",
        "  mask = rfe_model.support_\n",
        "  reduced_X = train_features.loc[:, mask]\n",
        "  print(reduced_X.columns)\n",
        "  return rfe_model"
      ],
      "execution_count": 56,
      "outputs": []
    },
    {
      "cell_type": "code",
      "metadata": {
        "colab": {
          "base_uri": "https://localhost:8080/"
        },
        "id": "_xN4weejBtro",
        "outputId": "a0a12a6b-8fa0-4945-d577-3ca39252ebed"
      },
      "source": [
        "rfe_lr_model = model_with_rfe(lr_model.best_estimator_)\n",
        "\n",
        "rfe_lr_model"
      ],
      "execution_count": 57,
      "outputs": [
        {
          "output_type": "stream",
          "text": [
            "Index(['TotalCharges', 'MonthlyCharges', 'Contract_Two year',\n",
            "       'PaymentMethod_Electronic check', 'InternetService_Fiber optic',\n",
            "       'Contract_One year', 'MultipleLines_Yes', 'StreamingTV_Yes',\n",
            "       'StreamingMovies_Yes', 'StreamingTV_No internet service'],\n",
            "      dtype='object')\n"
          ],
          "name": "stdout"
        },
        {
          "output_type": "execute_result",
          "data": {
            "text/plain": [
              "RFE(estimator=LogisticRegression(C=500, class_weight=None, dual=False,\n",
              "                                 fit_intercept=True, intercept_scaling=1,\n",
              "                                 l1_ratio=None, max_iter=500,\n",
              "                                 multi_class='auto', n_jobs=None, penalty='l2',\n",
              "                                 random_state=1111, solver='lbfgs', tol=0.0001,\n",
              "                                 verbose=0, warm_start=False),\n",
              "    n_features_to_select=None, step=1, verbose=0)"
            ]
          },
          "metadata": {
            "tags": []
          },
          "execution_count": 57
        }
      ]
    },
    {
      "cell_type": "code",
      "metadata": {
        "colab": {
          "base_uri": "https://localhost:8080/"
        },
        "id": "NWYrD8-9Bto4",
        "outputId": "610d0d15-5b7c-422b-83da-6f4e5f8ffed7"
      },
      "source": [
        "model_evaluation(rfe_lr_model, X_val, y_val)"
      ],
      "execution_count": 58,
      "outputs": [
        {
          "output_type": "stream",
          "text": [
            "              precision    recall  f1-score   support\n",
            "\n",
            "           0       0.89      0.74      0.81      1032\n",
            "           1       0.51      0.75      0.61       374\n",
            "\n",
            "    accuracy                           0.74      1406\n",
            "   macro avg       0.70      0.75      0.71      1406\n",
            "weighted avg       0.79      0.74      0.76      1406\n",
            "\n"
          ],
          "name": "stdout"
        }
      ]
    },
    {
      "cell_type": "markdown",
      "metadata": {
        "id": "GZfTgFASKUrg"
      },
      "source": [
        "### RandomForest "
      ]
    },
    {
      "cell_type": "code",
      "metadata": {
        "colab": {
          "base_uri": "https://localhost:8080/"
        },
        "id": "UuwEcS6hBti_",
        "outputId": "6b515f95-5e03-4c04-e9cb-51e46702797b"
      },
      "source": [
        "#Hyperparametres\n",
        "\n",
        "param_grid_rf = {'n_estimators':[10, 50, 100, 500, 1000], 'max_depth':[3, 5, 10, 20, None]}\n",
        "\n",
        "#GridSearchCV\n",
        "\n",
        "grid_rf_class = GridSearchCV(estimator=RandomForestClassifier(random_state=seed), param_grid = param_grid_rf, scoring='f1', cv=5)\n",
        "\n",
        "#Training \n",
        "\n",
        "rf_model = grid_rf_class.fit(train_features, train_labels)\n",
        "\n",
        "# Meilleur score et hyperparametre\n",
        "\n",
        "print(round(rf_model.best_score_, 3))\n",
        "\n",
        "print(rf_model.best_estimator_)\n",
        "\n",
        "\n"
      ],
      "execution_count": 59,
      "outputs": [
        {
          "output_type": "stream",
          "text": [
            "0.909\n",
            "RandomForestClassifier(bootstrap=True, ccp_alpha=0.0, class_weight=None,\n",
            "                       criterion='gini', max_depth=20, max_features='auto',\n",
            "                       max_leaf_nodes=None, max_samples=None,\n",
            "                       min_impurity_decrease=0.0, min_impurity_split=None,\n",
            "                       min_samples_leaf=1, min_samples_split=2,\n",
            "                       min_weight_fraction_leaf=0.0, n_estimators=100,\n",
            "                       n_jobs=None, oob_score=False, random_state=1111,\n",
            "                       verbose=0, warm_start=False)\n"
          ],
          "name": "stdout"
        }
      ]
    },
    {
      "cell_type": "code",
      "metadata": {
        "colab": {
          "base_uri": "https://localhost:8080/"
        },
        "id": "gaPNXX6cBtZt",
        "outputId": "912a7399-cd45-4d35-c37e-7589fb84ab2d"
      },
      "source": [
        "model_evaluation(rf_model.best_estimator_, X_val, y_val)"
      ],
      "execution_count": 60,
      "outputs": [
        {
          "output_type": "stream",
          "text": [
            "              precision    recall  f1-score   support\n",
            "\n",
            "           0       0.83      0.85      0.84      1032\n",
            "           1       0.57      0.53      0.55       374\n",
            "\n",
            "    accuracy                           0.77      1406\n",
            "   macro avg       0.70      0.69      0.69      1406\n",
            "weighted avg       0.76      0.77      0.76      1406\n",
            "\n"
          ],
          "name": "stdout"
        }
      ]
    },
    {
      "cell_type": "code",
      "metadata": {
        "colab": {
          "base_uri": "https://localhost:8080/"
        },
        "id": "Ab5cQc4aCCo7",
        "outputId": "84889bd7-4de1-4efc-d039-fb9935dd4450"
      },
      "source": [
        "# Random Forest avec RFE \n",
        "\n",
        "rfe_rf_model = model_with_rfe(rf_model.best_estimator_)\n",
        "\n",
        "rfe_rf_model"
      ],
      "execution_count": 61,
      "outputs": [
        {
          "output_type": "stream",
          "text": [
            "Index(['TotalCharges', 'tenure', 'MonthlyCharges', 'Contract_Two year',\n",
            "       'PaymentMethod_Electronic check', 'InternetService_Fiber optic',\n",
            "       'Contract_One year', 'OnlineSecurity_Yes', 'PaperlessBilling',\n",
            "       'StreamingTV_No internet service'],\n",
            "      dtype='object')\n"
          ],
          "name": "stdout"
        },
        {
          "output_type": "execute_result",
          "data": {
            "text/plain": [
              "RFE(estimator=RandomForestClassifier(bootstrap=True, ccp_alpha=0.0,\n",
              "                                     class_weight=None, criterion='gini',\n",
              "                                     max_depth=20, max_features='auto',\n",
              "                                     max_leaf_nodes=None, max_samples=None,\n",
              "                                     min_impurity_decrease=0.0,\n",
              "                                     min_impurity_split=None,\n",
              "                                     min_samples_leaf=1, min_samples_split=2,\n",
              "                                     min_weight_fraction_leaf=0.0,\n",
              "                                     n_estimators=100, n_jobs=None,\n",
              "                                     oob_score=False, random_state=1111,\n",
              "                                     verbose=0, warm_start=False),\n",
              "    n_features_to_select=None, step=1, verbose=0)"
            ]
          },
          "metadata": {
            "tags": []
          },
          "execution_count": 61
        }
      ]
    },
    {
      "cell_type": "code",
      "metadata": {
        "colab": {
          "base_uri": "https://localhost:8080/"
        },
        "id": "0SAXUg-VCCi_",
        "outputId": "e9a3847f-e6df-474a-feb4-20a381f3b134"
      },
      "source": [
        "model_evaluation(rfe_rf_model, X_val, y_val)"
      ],
      "execution_count": 62,
      "outputs": [
        {
          "output_type": "stream",
          "text": [
            "              precision    recall  f1-score   support\n",
            "\n",
            "           0       0.83      0.84      0.84      1032\n",
            "           1       0.54      0.53      0.54       374\n",
            "\n",
            "    accuracy                           0.76      1406\n",
            "   macro avg       0.69      0.68      0.69      1406\n",
            "weighted avg       0.75      0.76      0.76      1406\n",
            "\n"
          ],
          "name": "stdout"
        }
      ]
    },
    {
      "cell_type": "markdown",
      "metadata": {
        "id": "OW0cSnhV99wy"
      },
      "source": [
        "### Reseau de neurones artificiel"
      ]
    },
    {
      "cell_type": "code",
      "metadata": {
        "id": "58YnuyLdCCPr",
        "colab": {
          "base_uri": "https://localhost:8080/"
        },
        "outputId": "f2798484-a817-4bdd-8038-a2803d1c1612"
      },
      "source": [
        "# MLPClassifier \n",
        "\n",
        "mlp = MLPClassifier(random_state=seed, max_iter=1000)\n",
        "\n",
        "parameters = {'hidden_layer_sizes':[(50,), (100,), (500,)], \n",
        "              'activation':['identity', 'logistic', 'tanh', 'relu'], \n",
        "              'learning_rate':['constant', 'invcaling', 'adaptive']}\n",
        "\n",
        "mlp_cv = GridSearchCV(mlp, parameters, scoring='f1', cv=5, n_jobs=-1)\n",
        "\n",
        "mlp_cv.fit(train_features, train_labels)\n"
      ],
      "execution_count": 63,
      "outputs": [
        {
          "output_type": "execute_result",
          "data": {
            "text/plain": [
              "GridSearchCV(cv=5, error_score=nan,\n",
              "             estimator=MLPClassifier(activation='relu', alpha=0.0001,\n",
              "                                     batch_size='auto', beta_1=0.9,\n",
              "                                     beta_2=0.999, early_stopping=False,\n",
              "                                     epsilon=1e-08, hidden_layer_sizes=(100,),\n",
              "                                     learning_rate='constant',\n",
              "                                     learning_rate_init=0.001, max_fun=15000,\n",
              "                                     max_iter=1000, momentum=0.9,\n",
              "                                     n_iter_no_change=10,\n",
              "                                     nesterovs_momentum=True, power_t=0.5,\n",
              "                                     random_stat...\n",
              "                                     solver='adam', tol=0.0001,\n",
              "                                     validation_fraction=0.1, verbose=False,\n",
              "                                     warm_start=False),\n",
              "             iid='deprecated', n_jobs=-1,\n",
              "             param_grid={'activation': ['identity', 'logistic', 'tanh', 'relu'],\n",
              "                         'hidden_layer_sizes': [(50,), (100,), (500,)],\n",
              "                         'learning_rate': ['constant', 'invcaling',\n",
              "                                           'adaptive']},\n",
              "             pre_dispatch='2*n_jobs', refit=True, return_train_score=False,\n",
              "             scoring='f1', verbose=0)"
            ]
          },
          "metadata": {
            "tags": []
          },
          "execution_count": 63
        }
      ]
    },
    {
      "cell_type": "code",
      "metadata": {
        "id": "zsu7zFUqFsux",
        "colab": {
          "base_uri": "https://localhost:8080/"
        },
        "outputId": "aa48704b-1e23-433b-8e72-1a9e9ab7cb9f"
      },
      "source": [
        "# Meilleur score et hyperparametres \n",
        "\n",
        "round(mlp_cv.best_score_, 3)"
      ],
      "execution_count": 64,
      "outputs": [
        {
          "output_type": "execute_result",
          "data": {
            "text/plain": [
              "0.86"
            ]
          },
          "metadata": {
            "tags": []
          },
          "execution_count": 64
        }
      ]
    },
    {
      "cell_type": "code",
      "metadata": {
        "id": "rENFaFL0Fsns",
        "colab": {
          "base_uri": "https://localhost:8080/"
        },
        "outputId": "0cbad198-7667-4f4b-e97a-ab675b845dca"
      },
      "source": [
        "mlp_cv.best_estimator_"
      ],
      "execution_count": 65,
      "outputs": [
        {
          "output_type": "execute_result",
          "data": {
            "text/plain": [
              "MLPClassifier(activation='relu', alpha=0.0001, batch_size='auto', beta_1=0.9,\n",
              "              beta_2=0.999, early_stopping=False, epsilon=1e-08,\n",
              "              hidden_layer_sizes=(500,), learning_rate='constant',\n",
              "              learning_rate_init=0.001, max_fun=15000, max_iter=1000,\n",
              "              momentum=0.9, n_iter_no_change=10, nesterovs_momentum=True,\n",
              "              power_t=0.5, random_state=1111, shuffle=True, solver='adam',\n",
              "              tol=0.0001, validation_fraction=0.1, verbose=False,\n",
              "              warm_start=False)"
            ]
          },
          "metadata": {
            "tags": []
          },
          "execution_count": 65
        }
      ]
    },
    {
      "cell_type": "code",
      "metadata": {
        "id": "0vKcz8A3FslB",
        "colab": {
          "base_uri": "https://localhost:8080/"
        },
        "outputId": "1085a7f0-0a9b-4450-f677-110288b21b49"
      },
      "source": [
        "model_evaluation(mlp_cv.best_estimator_, X_val, y_val)"
      ],
      "execution_count": 66,
      "outputs": [
        {
          "output_type": "stream",
          "text": [
            "              precision    recall  f1-score   support\n",
            "\n",
            "           0       0.84      0.82      0.83      1032\n",
            "           1       0.53      0.55      0.54       374\n",
            "\n",
            "    accuracy                           0.75      1406\n",
            "   macro avg       0.68      0.69      0.69      1406\n",
            "weighted avg       0.76      0.75      0.75      1406\n",
            "\n"
          ],
          "name": "stdout"
        }
      ]
    },
    {
      "cell_type": "markdown",
      "metadata": {
        "id": "L5IzS95BDhrV"
      },
      "source": [
        "### SVM"
      ]
    },
    {
      "cell_type": "code",
      "metadata": {
        "id": "U3hjVSUqFshV",
        "colab": {
          "base_uri": "https://localhost:8080/"
        },
        "outputId": "d06f1a2e-4120-4759-bfa7-20477766116f"
      },
      "source": [
        "svm_model = SVC(random_state=seed)\n",
        "\n",
        "svm_hyp = {'kernel':['linear', 'rbf'], 'C':[0.1, 1.0, 10, 50, 100]}\n",
        "\n",
        "svm_cv = GridSearchCV(svm_model, svm_hyp, scoring='f1', cv=5)\n",
        "\n",
        "svm_cv.fit(train_features, train_labels)\n",
        "\n",
        "print(round(svm_cv.best_score_,3))\n",
        "\n",
        "print(svm_cv.best_estimator_)"
      ],
      "execution_count": 67,
      "outputs": [
        {
          "output_type": "stream",
          "text": [
            "0.855\n",
            "SVC(C=100, break_ties=False, cache_size=200, class_weight=None, coef0=0.0,\n",
            "    decision_function_shape='ovr', degree=3, gamma='scale', kernel='rbf',\n",
            "    max_iter=-1, probability=False, random_state=1111, shrinking=True,\n",
            "    tol=0.001, verbose=False)\n"
          ],
          "name": "stdout"
        }
      ]
    },
    {
      "cell_type": "code",
      "metadata": {
        "id": "kUH2ZEvmFsdD",
        "colab": {
          "base_uri": "https://localhost:8080/"
        },
        "outputId": "9635c37f-f62b-4ab5-df8c-1b3a67dda449"
      },
      "source": [
        "model_evaluation(svm_cv.best_estimator_, X_val, y_val)"
      ],
      "execution_count": 68,
      "outputs": [
        {
          "output_type": "stream",
          "text": [
            "              precision    recall  f1-score   support\n",
            "\n",
            "           0       0.84      0.78      0.81      1032\n",
            "           1       0.49      0.58      0.53       374\n",
            "\n",
            "    accuracy                           0.73      1406\n",
            "   macro avg       0.66      0.68      0.67      1406\n",
            "weighted avg       0.74      0.73      0.74      1406\n",
            "\n"
          ],
          "name": "stdout"
        }
      ]
    },
    {
      "cell_type": "markdown",
      "metadata": {
        "id": "FPekG-MC0LnU"
      },
      "source": [
        "### Conclusion"
      ]
    },
    {
      "cell_type": "markdown",
      "metadata": {
        "id": "vp-w0iT00Qtg"
      },
      "source": [
        "Nous avons utiliser les données d'évaluation pour selectionner le meilleur modèle. Ensuite on evalue le meilleur modèle sur le données de test afin de voir sa perfomance sur des nouvelles données."
      ]
    },
    {
      "cell_type": "code",
      "metadata": {
        "colab": {
          "base_uri": "https://localhost:8080/"
        },
        "id": "R9pn9BOV1PDz",
        "outputId": "2429b50f-be98-4d1f-ccd5-9d004ce01374"
      },
      "source": [
        "model_evaluation(lr_model.best_estimator_, X_test, y_test)\n"
      ],
      "execution_count": 69,
      "outputs": [
        {
          "output_type": "stream",
          "text": [
            "              precision    recall  f1-score   support\n",
            "\n",
            "           0       0.90      0.77      0.83      1033\n",
            "           1       0.54      0.77      0.64       374\n",
            "\n",
            "    accuracy                           0.77      1407\n",
            "   macro avg       0.72      0.77      0.73      1407\n",
            "weighted avg       0.81      0.77      0.78      1407\n",
            "\n"
          ],
          "name": "stdout"
        }
      ]
    },
    {
      "cell_type": "code",
      "metadata": {
        "id": "ujTy9cnMDjQb"
      },
      "source": [
        "from google.colab import drive\n",
        "drive.mount('/content/drive')"
      ],
      "execution_count": null,
      "outputs": []
    }
  ]
}